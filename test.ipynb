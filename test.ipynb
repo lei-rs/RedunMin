{
 "cells": [
  {
   "cell_type": "code",
   "execution_count": 1,
   "outputs": [],
   "source": [
    "from rand_archive import Reader, Writer, Header\n",
    "from src.dataloader.types import VideoSample, Video\n",
    "import pypeln as pl"
   ],
   "metadata": {
    "collapsed": false,
    "ExecuteTime": {
     "end_time": "2023-09-26T03:38:07.204741Z",
     "start_time": "2023-09-26T03:38:05.124076Z"
    }
   },
   "id": "5a66cb926ab63233"
  },
  {
   "cell_type": "code",
   "execution_count": 2,
   "outputs": [],
   "source": [
    "from numpy import ndarray\n",
    "from typing import List\n",
    "from av.video.frame import VideoFrame\n",
    "import av\n",
    "\n",
    "def ser_model(frames: List[ndarray]) -> bytes:\n",
    "    buf = BytesIO()\n",
    "    container = av.open(buf, mode='w', format='h264')\n",
    "    stream = container.add_stream(\n",
    "        'h264',\n",
    "        options={\n",
    "            'preset': 'ultrafast',\n",
    "            'tune': 'fastdecode',\n",
    "            'crf': '28',\n",
    "        }\n",
    "    )\n",
    "    stream.pix_fmt = 'yuv420p'\n",
    "    stream.width = frames[0].shape[1]\n",
    "    stream.height = frames[0].shape[0]\n",
    "    for frame in frames:\n",
    "        frame = VideoFrame.from_ndarray(frame, format='rgb24')\n",
    "        for packet in stream.encode(frame):\n",
    "            container.mux(packet)\n",
    "    for packet in stream.encode():\n",
    "        container.mux(packet)\n",
    "    container.close()\n",
    "    return buf.getvalue()"
   ],
   "metadata": {
    "collapsed": false,
    "ExecuteTime": {
     "end_time": "2023-09-26T03:38:08.512978Z",
     "start_time": "2023-09-26T03:38:08.507793Z"
    }
   },
   "id": "f71e979ab846dc1e"
  },
  {
   "cell_type": "code",
   "execution_count": 3,
   "outputs": [],
   "source": [
    "import pickle\n",
    "from io import BytesIO\n",
    "\n",
    "def convert_to_video(x):\n",
    "    key, b = x\n",
    "    d = pickle.loads(b)\n",
    "    md = d['md']\n",
    "    cls = md.pop('cls')\n",
    "    md.pop('key')\n",
    "    return VideoSample(\n",
    "        key=key,\n",
    "        cls=cls,\n",
    "        video=Video.from_path(BytesIO(d['video'])),\n",
    "        extra=md\n",
    "    )"
   ],
   "metadata": {
    "collapsed": false,
    "ExecuteTime": {
     "end_time": "2023-09-26T03:38:08.927212Z",
     "start_time": "2023-09-26T03:38:08.921351Z"
    }
   },
   "id": "697b3b1d6d57e27e"
  },
  {
   "cell_type": "code",
   "execution_count": 4,
   "outputs": [],
   "source": [
    "vid = convert_to_video(next(iter(Reader().open_file('test/data/test.raa'))))"
   ],
   "metadata": {
    "collapsed": false,
    "ExecuteTime": {
     "end_time": "2023-09-26T03:38:10.243935Z",
     "start_time": "2023-09-26T03:38:10.166968Z"
    }
   },
   "id": "45713c38e3f73484"
  },
  {
   "cell_type": "code",
   "execution_count": 5,
   "outputs": [
    {
     "name": "stdout",
     "output_type": "stream",
     "text": [
      "CPU times: user 41.1 ms, sys: 32.3 ms, total: 73.4 ms\n",
      "Wall time: 173 ms\n"
     ]
    }
   ],
   "source": [
    "%%time\n",
    "_ = ser_model(vid.video.frames)"
   ],
   "metadata": {
    "collapsed": false,
    "ExecuteTime": {
     "end_time": "2023-09-26T03:38:12.835610Z",
     "start_time": "2023-09-26T03:38:12.658025Z"
    }
   },
   "id": "8939f73c38b11a0e"
  },
  {
   "cell_type": "code",
   "execution_count": 6,
   "outputs": [
    {
     "name": "stdout",
     "output_type": "stream",
     "text": [
      "CPU times: user 42.7 ms, sys: 14.4 ms, total: 57.1 ms\n",
      "Wall time: 51.8 ms\n"
     ]
    }
   ],
   "source": [
    "%%time\n",
    "_ = vid.model_dump()"
   ],
   "metadata": {
    "collapsed": false,
    "ExecuteTime": {
     "end_time": "2023-09-26T03:38:15.470816Z",
     "start_time": "2023-09-26T03:38:15.421831Z"
    }
   },
   "id": "75e1a2a869cbb9c4"
  },
  {
   "cell_type": "code",
   "execution_count": 3,
   "outputs": [],
   "source": [
    "data = (\n",
    "    iter(Reader().open_file('data/test.raa'))\n",
    "    | pl.thread.map(convert_to_video, workers=4)\n",
    ")"
   ],
   "metadata": {
    "collapsed": false,
    "ExecuteTime": {
     "end_time": "2023-09-26T03:28:58.174725Z",
     "start_time": "2023-09-26T03:28:58.169973Z"
    }
   },
   "id": "83ca63fa2b57ed58"
  },
  {
   "cell_type": "code",
   "execution_count": null,
   "outputs": [],
   "source": [
    "from tqdm import tqdm\n",
    "w = Writer('data/val.raa', max_header_size=1585728)\n",
    "for x in tqdm(data):\n",
    "    w.write(x.key, pickle.dumps(x.model_dump()))\n",
    "w.close()"
   ],
   "metadata": {
    "collapsed": false
   },
   "id": "ca2e77981e5087f7"
  },
  {
   "cell_type": "code",
   "execution_count": null,
   "outputs": [
    {
     "name": "stderr",
     "output_type": "stream",
     "text": [
      "150it [00:19,  4.45it/s]"
     ]
    }
   ],
   "source": [
    "from tqdm import tqdm\n",
    "for x in tqdm(data):\n",
    "    x.model_dump()"
   ],
   "metadata": {
    "collapsed": false,
    "ExecuteTime": {
     "start_time": "2023-09-26T03:29:00.442755Z"
    }
   },
   "id": "f3b103e934a8ee4f"
  }
 ],
 "metadata": {
  "kernelspec": {
   "display_name": "Python 3",
   "language": "python",
   "name": "python3"
  },
  "language_info": {
   "codemirror_mode": {
    "name": "ipython",
    "version": 2
   },
   "file_extension": ".py",
   "mimetype": "text/x-python",
   "name": "python",
   "nbconvert_exporter": "python",
   "pygments_lexer": "ipython2",
   "version": "2.7.6"
  }
 },
 "nbformat": 4,
 "nbformat_minor": 5
}
