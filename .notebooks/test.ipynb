{
 "cells": [
  {
   "cell_type": "code",
   "execution_count": 1,
   "outputs": [],
   "source": [
    "import os\n",
    "\n",
    "os.chdir(os.path.expanduser('C:\\\\Users\\leifu\\Documents\\GitHub\\RedunMin'))\n",
    "from src import utils\n",
    "from torchdata.datapipes.iter import IterableWrapper"
   ],
   "metadata": {
    "collapsed": false,
    "ExecuteTime": {
     "end_time": "2023-06-26T03:15:43.342209200Z",
     "start_time": "2023-06-26T03:15:38.179204400Z"
    }
   }
  },
  {
   "cell_type": "code",
   "execution_count": 2,
   "outputs": [],
   "source": [
    "from torchvision.io.image import decode_jpeg\n",
    "\n",
    "seq = [\n",
    "    utils.callable.copy_shared_list,\n",
    "    utils.callable.SampleFrames(30),\n",
    "    utils.callable.DecodeFrames(),\n",
    "]"
   ],
   "metadata": {
    "collapsed": false,
    "ExecuteTime": {
     "end_time": "2023-06-26T03:15:51.038233100Z",
     "start_time": "2023-06-26T03:15:51.019248900Z"
    }
   }
  },
  {
   "cell_type": "code",
   "execution_count": 3,
   "outputs": [],
   "source": [
    "fp = [f'data/ssv2/train/shard_{i:06d}.tar' for i in range(2)]\n",
    "dp = IterableWrapper(fp).read_tar().seq(seq)"
   ],
   "metadata": {
    "collapsed": false,
    "ExecuteTime": {
     "end_time": "2023-06-26T03:15:52.162011200Z",
     "start_time": "2023-06-26T03:15:52.144016700Z"
    }
   }
  },
  {
   "cell_type": "code",
   "execution_count": 4,
   "outputs": [
    {
     "name": "stderr",
     "output_type": "stream",
     "text": [
      "7273it [01:28, 81.98it/s]\n"
     ]
    }
   ],
   "source": [
    "from tqdm import tqdm\n",
    "\n",
    "for _ in tqdm(dp):\n",
    "    pass"
   ],
   "metadata": {
    "collapsed": false,
    "ExecuteTime": {
     "end_time": "2023-06-26T03:17:22.542260300Z",
     "start_time": "2023-06-26T03:15:53.823273800Z"
    }
   }
  },
  {
   "cell_type": "code",
   "execution_count": null,
   "outputs": [],
   "source": [],
   "metadata": {
    "collapsed": false
   }
  }
 ],
 "metadata": {
  "kernelspec": {
   "display_name": "Python 3",
   "language": "python",
   "name": "python3"
  },
  "language_info": {
   "codemirror_mode": {
    "name": "ipython",
    "version": 2
   },
   "file_extension": ".py",
   "mimetype": "text/x-python",
   "name": "python",
   "nbconvert_exporter": "python",
   "pygments_lexer": "ipython2",
   "version": "2.7.6"
  }
 },
 "nbformat": 4,
 "nbformat_minor": 0
}
