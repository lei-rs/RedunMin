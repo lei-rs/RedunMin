{
 "cells": [
  {
   "cell_type": "code",
   "execution_count": 1,
   "outputs": [],
   "source": [
    "import os\n",
    "os.chdir(os.path.expanduser('/home/lei/Documents/STT/src'))\n",
    "os.chdir(os.path.expanduser('/home/lei/Documents/STT/data'))\n",
    "import src.utils as U\n",
    "from src.utils import Dataloader"
   ],
   "metadata": {
    "collapsed": false,
    "ExecuteTime": {
     "end_time": "2023-05-29T06:45:03.485353001Z",
     "start_time": "2023-05-29T06:45:01.931029425Z"
    }
   }
  },
  {
   "cell_type": "code",
   "execution_count": 2,
   "outputs": [],
   "source": [
    "path = [f'ssv2/shard_{i:06d}.tar' for i in range(4)]"
   ],
   "metadata": {
    "collapsed": false,
    "ExecuteTime": {
     "end_time": "2023-05-29T06:45:03.487919576Z",
     "start_time": "2023-05-29T06:45:03.486140991Z"
    }
   }
  },
  {
   "cell_type": "code",
   "execution_count": 3,
   "outputs": [],
   "source": [
    "transforms = [\n",
    "    U.SampleFrames(128, 'uniform'),\n",
    "    U.FramesToTensor(),\n",
    "]\n",
    "\n",
    "dl = Dataloader(path, batch_size=1, transforms=transforms, num_workers=4, prefetch_count=8).dl"
   ],
   "metadata": {
    "collapsed": false,
    "ExecuteTime": {
     "end_time": "2023-05-29T06:45:03.500328819Z",
     "start_time": "2023-05-29T06:45:03.488770668Z"
    }
   }
  },
  {
   "cell_type": "code",
   "execution_count": 4,
   "outputs": [
    {
     "name": "stderr",
     "output_type": "stream",
     "text": [
      "0it [00:00, ?it/s]"
     ]
    },
    {
     "name": "stdout",
     "output_type": "stream",
     "text": [
      "dict_keys(['__key__', '.frame_000000.jpeg', '.frame_000001.jpeg', '.frame_000002.jpeg', '.frame_000003.jpeg', '.frame_000004.jpeg', '.frame_000005.jpeg', '.frame_000006.jpeg', '.frame_000007.jpeg', '.frame_000008.jpeg', '.frame_000009.jpeg', '.frame_000010.jpeg', '.frame_000011.jpeg', '.frame_000012.jpeg', '.frame_000013.jpeg', '.frame_000014.jpeg', '.frame_000015.jpeg', '.frame_000016.jpeg', '.frame_000017.jpeg', '.frame_000018.jpeg', '.frame_000019.jpeg', '.frame_000020.jpeg', '.frame_000021.jpeg', '.frame_000022.jpeg', '.frame_000023.jpeg', '.frame_000024.jpeg', '.frame_000025.jpeg', '.frame_000026.jpeg', '.frame_000027.jpeg', '.num_frames', '.target.cls'])dict_keys(['__key__', '.frame_000000.jpeg', '.frame_000001.jpeg', '.frame_000002.jpeg', '.frame_000003.jpeg', '.frame_000004.jpeg', '.frame_000005.jpeg', '.frame_000006.jpeg', '.frame_000007.jpeg', '.frame_000008.jpeg', '.frame_000009.jpeg', '.frame_000010.jpeg', '.frame_000011.jpeg', '.frame_000012.jpeg', '.frame_000013.jpeg', '.frame_000014.jpeg', '.frame_000015.jpeg', '.frame_000016.jpeg', '.frame_000017.jpeg', '.frame_000018.jpeg', '.frame_000019.jpeg', '.frame_000020.jpeg', '.frame_000021.jpeg', '.frame_000022.jpeg', '.frame_000023.jpeg', '.frame_000024.jpeg', '.frame_000025.jpeg', '.frame_000026.jpeg', '.frame_000027.jpeg', '.frame_000028.jpeg', '.frame_000029.jpeg', '.frame_000030.jpeg', '.num_frames', '.target.cls'])\n",
      "dict_keys(['__key__', '.frame_000000.jpeg', '.frame_000001.jpeg', '.frame_000002.jpeg', '.frame_000003.jpeg', '.frame_000004.jpeg', '.frame_000005.jpeg', '.frame_000006.jpeg', '.frame_000007.jpeg', '.frame_000008.jpeg', '.frame_000009.jpeg', '.frame_000010.jpeg', '.frame_000011.jpeg', '.frame_000012.jpeg', '.frame_000013.jpeg', '.frame_000014.jpeg', '.frame_000015.jpeg', '.frame_000016.jpeg', '.frame_000017.jpeg', '.frame_000018.jpeg', '.frame_000019.jpeg', '.frame_000020.jpeg', '.frame_000021.jpeg', '.frame_000022.jpeg', '.frame_000023.jpeg', '.frame_000024.jpeg', '.frame_000025.jpeg', '.frame_000026.jpeg', '.frame_000027.jpeg', '.frame_000028.jpeg', '.frame_000029.jpeg', '.frame_000030.jpeg', '.frame_000031.jpeg', '.frame_000032.jpeg', '.frame_000033.jpeg', '.frame_000034.jpeg', '.frame_000035.jpeg', '.frame_000036.jpeg', '.frame_000037.jpeg', '.frame_000038.jpeg', '.frame_000039.jpeg', '.num_frames', '.target.cls'])dict_keys(['__key__', '.frame_000000.jpeg', '.frame_000001.jpeg', '.frame_000002.jpeg', '.frame_000003.jpeg', '.frame_000004.jpeg', '.frame_000005.jpeg', '.frame_000006.jpeg', '.frame_000007.jpeg', '.frame_000008.jpeg', '.frame_000009.jpeg', '.frame_000010.jpeg', '.frame_000011.jpeg', '.frame_000012.jpeg', '.frame_000013.jpeg', '.frame_000014.jpeg', '.frame_000015.jpeg', '.frame_000016.jpeg', '.frame_000017.jpeg', '.frame_000018.jpeg', '.frame_000019.jpeg', '.frame_000020.jpeg', '.frame_000021.jpeg', '.frame_000022.jpeg', '.frame_000023.jpeg', '.frame_000024.jpeg', '.frame_000025.jpeg', '.frame_000026.jpeg', '.frame_000027.jpeg', '.frame_000028.jpeg', '.frame_000029.jpeg', '.frame_000030.jpeg', '.frame_000031.jpeg', '.frame_000032.jpeg', '.frame_000033.jpeg', '.frame_000034.jpeg', '.frame_000035.jpeg', '.frame_000036.jpeg', '.frame_000037.jpeg', '.frame_000038.jpeg', '.frame_000039.jpeg', '.frame_000040.jpeg', '.frame_000041.jpeg', '.frame_000042.jpeg', '.frame_000043.jpeg', '.frame_000044.jpeg', '.frame_000045.jpeg', '.frame_000046.jpeg', '.num_frames', '.target.cls'])\n",
      "\n",
      "\n"
     ]
    },
    {
     "name": "stderr",
     "output_type": "stream",
     "text": [
      "/home/lei/miniconda3/envs/RedunMin/lib/python3.10/site-packages/torchdata/datapipes/iter/util/tararchiveloader.py:78: UserWarning: Unable to extract files from corrupted tarfile stream ssv2/shard_000000.tar due to: bad checksum, abort!\n",
      "  warnings.warn(f\"Unable to extract files from corrupted tarfile stream {pathname} due to: {e}, abort!\")\n"
     ]
    },
    {
     "name": "stdout",
     "output_type": "stream",
     "text": [
      "dict_keys(['__key__', '.frame_000000.jpeg', '.frame_000001.jpeg', '.frame_000002.jpeg', '.frame_000003.jpeg', '.frame_000004.jpeg', '.frame_000005.jpeg', '.frame_000006.jpeg', '.frame_000007.jpeg', '.frame_000008.jpeg', '.frame_000009.jpeg', '.frame_000010.jpeg', '.frame_000011.jpeg', '.frame_000012.jpeg', '.frame_000013.jpeg', '.frame_000014.jpeg', '.frame_000015.jpeg', '.frame_000016.jpeg', '.frame_000017.jpeg', '.frame_000018.jpeg', '.frame_000019.jpeg', '.frame_000020.jpeg', '.frame_000021.jpeg', '.frame_000022.jpeg', '.frame_000023.jpeg', '.frame_000024.jpeg', '.frame_000025.jpeg', '.frame_000026.jpeg', '.frame_000027.jpeg', '.frame_000028.jpeg', '.num_frames', '.target.cls'])"
     ]
    },
    {
     "name": "stderr",
     "output_type": "stream",
     "text": [
      "1it [00:00,  2.59it/s]/home/lei/miniconda3/envs/RedunMin/lib/python3.10/site-packages/torchdata/datapipes/iter/util/tararchiveloader.py:78: UserWarning: Unable to extract files from corrupted tarfile stream ssv2/shard_000002.tar due to: bad checksum, abort!\n",
      "  warnings.warn(f\"Unable to extract files from corrupted tarfile stream {pathname} due to: {e}, abort!\")\n"
     ]
    },
    {
     "name": "stdout",
     "output_type": "stream",
     "text": [
      "\n",
      "dict_keys(['__key__', '.frame_000000.jpeg', '.frame_000001.jpeg', '.frame_000002.jpeg', '.frame_000003.jpeg', '.frame_000004.jpeg', '.frame_000005.jpeg', '.frame_000006.jpeg', '.frame_000007.jpeg', '.frame_000008.jpeg', '.frame_000009.jpeg', '.frame_000010.jpeg', '.frame_000011.jpeg', '.frame_000012.jpeg', '.frame_000013.jpeg', '.frame_000014.jpeg', '.frame_000015.jpeg', '.frame_000016.jpeg', '.frame_000017.jpeg', '.frame_000018.jpeg', '.frame_000019.jpeg', '.frame_000020.jpeg', '.frame_000021.jpeg', '.frame_000022.jpeg', '.frame_000023.jpeg', '.frame_000024.jpeg', '.frame_000025.jpeg', '.frame_000026.jpeg', '.frame_000027.jpeg', '.frame_000028.jpeg', '.frame_000029.jpeg', '.frame_000030.jpeg', '.frame_000031.jpeg', '.frame_000032.jpeg', '.frame_000033.jpeg', '.frame_000034.jpeg', '.frame_000035.jpeg', '.num_frames', '.target.cls'])\n",
      "dict_keys(['__key__', '.frame_000000.jpeg', '.frame_000001.jpeg', '.frame_000002.jpeg', '.frame_000003.jpeg', '.frame_000004.jpeg', '.frame_000005.jpeg', '.frame_000006.jpeg', '.frame_000007.jpeg', '.frame_000008.jpeg', '.frame_000009.jpeg', '.frame_000010.jpeg', '.frame_000011.jpeg', '.frame_000012.jpeg', '.frame_000013.jpeg', '.frame_000014.jpeg', '.frame_000015.jpeg', '.frame_000016.jpeg', '.frame_000017.jpeg', '.frame_000018.jpeg', '.frame_000019.jpeg', '.frame_000020.jpeg', '.frame_000021.jpeg', '.frame_000022.jpeg', '.frame_000023.jpeg', '.frame_000024.jpeg', '.frame_000025.jpeg', '.frame_000026.jpeg', '.frame_000027.jpeg', '.frame_000028.jpeg', '.frame_000029.jpeg', '.frame_000030.jpeg', '.frame_000031.jpeg', '.frame_000032.jpeg', '.frame_000033.jpeg', '.frame_000034.jpeg', '.frame_000035.jpeg', '.num_frames', '.target.cls'])\n",
      "dict_keys(['__key__', '.frame_000000.jpeg', '.frame_000001.jpeg', '.frame_000002.jpeg', '.frame_000003.jpeg', '.frame_000004.jpeg', '.frame_000005.jpeg', '.frame_000006.jpeg', '.frame_000007.jpeg', '.frame_000008.jpeg', '.frame_000009.jpeg', '.frame_000010.jpeg', '.frame_000011.jpeg', '.frame_000012.jpeg', '.frame_000013.jpeg', '.frame_000014.jpeg', '.frame_000015.jpeg', '.frame_000016.jpeg', '.frame_000017.jpeg', '.frame_000018.jpeg', '.frame_000019.jpeg', '.frame_000020.jpeg', '.frame_000021.jpeg', '.frame_000022.jpeg', '.frame_000023.jpeg', '.frame_000024.jpeg', '.frame_000025.jpeg'])dict_keys(['__key__', '.frame_000000.jpeg', '.frame_000001.jpeg', '.frame_000002.jpeg', '.frame_000003.jpeg', '.frame_000004.jpeg', '.frame_000005.jpeg', '.frame_000006.jpeg', '.frame_000007.jpeg', '.frame_000008.jpeg', '.frame_000009.jpeg', '.frame_000010.jpeg', '.frame_000011.jpeg', '.frame_000012.jpeg', '.frame_000013.jpeg', '.frame_000014.jpeg', '.frame_000015.jpeg', '.frame_000016.jpeg', '.frame_000017.jpeg', '.frame_000018.jpeg', '.frame_000019.jpeg', '.frame_000020.jpeg', '.frame_000021.jpeg', '.frame_000022.jpeg', '.frame_000023.jpeg', '.frame_000024.jpeg', '.frame_000025.jpeg', '.frame_000026.jpeg', '.frame_000027.jpeg', '.frame_000028.jpeg', '.frame_000029.jpeg', '.num_frames', '.target.cls'])"
     ]
    },
    {
     "name": "stderr",
     "output_type": "stream",
     "text": [
      "3it [00:00,  7.12it/s]"
     ]
    },
    {
     "name": "stdout",
     "output_type": "stream",
     "text": [
      "\n",
      "\n",
      "dict_keys(['__key__', '.frame_000000.jpeg', '.frame_000001.jpeg', '.frame_000002.jpeg', '.frame_000003.jpeg', '.frame_000004.jpeg', '.frame_000005.jpeg', '.frame_000006.jpeg', '.frame_000007.jpeg', '.frame_000008.jpeg', '.frame_000009.jpeg', '.frame_000010.jpeg', '.frame_000011.jpeg', '.frame_000012.jpeg', '.frame_000013.jpeg', '.frame_000014.jpeg', '.frame_000015.jpeg', '.frame_000016.jpeg', '.frame_000017.jpeg', '.frame_000018.jpeg', '.frame_000019.jpeg', '.frame_000020.jpeg', '.frame_000021.jpeg', '.frame_000022.jpeg', '.frame_000023.jpeg', '.frame_000024.jpeg', '.frame_000025.jpeg', '.frame_000026.jpeg', '.frame_000027.jpeg', '.frame_000028.jpeg', '.frame_000029.jpeg', '.frame_000030.jpeg', '.frame_000031.jpeg', '.frame_000032.jpeg', '.frame_000033.jpeg', '.frame_000034.jpeg', '.frame_000035.jpeg', '.frame_000036.jpeg', '.frame_000037.jpeg', '.frame_000038.jpeg', '.frame_000039.jpeg', '.frame_000040.jpeg', '.frame_000041.jpeg', '.frame_000042.jpeg', '.frame_000043.jpeg', '.frame_000044.jpeg', '.frame_000045.jpeg', '.frame_000046.jpeg', '.frame_000047.jpeg', '.frame_000048.jpeg', '.num_frames', '.target.cls'])\n",
      "dict_keys(['__key__', '.frame_000000.jpeg', '.frame_000001.jpeg', '.frame_000002.jpeg', '.frame_000003.jpeg', '.frame_000004.jpeg', '.frame_000005.jpeg', '.frame_000006.jpeg', '.frame_000007.jpeg', '.frame_000008.jpeg', '.frame_000009.jpeg', '.frame_000010.jpeg', '.frame_000011.jpeg', '.frame_000012.jpeg', '.frame_000013.jpeg', '.frame_000014.jpeg', '.frame_000015.jpeg', '.frame_000016.jpeg', '.frame_000017.jpeg', '.frame_000018.jpeg', '.frame_000019.jpeg', '.frame_000020.jpeg', '.frame_000021.jpeg', '.frame_000022.jpeg', '.frame_000023.jpeg', '.frame_000024.jpeg', '.frame_000025.jpeg', '.frame_000026.jpeg', '.frame_000027.jpeg', '.frame_000028.jpeg', '.frame_000029.jpeg', '.frame_000030.jpeg', '.frame_000031.jpeg', '.frame_000032.jpeg', '.frame_000033.jpeg', '.frame_000034.jpeg', '.frame_000035.jpeg', '.frame_000036.jpeg', '.frame_000037.jpeg', '.frame_000038.jpeg', '.frame_000039.jpeg', '.frame_000040.jpeg', '.frame_000041.jpeg', '.num_frames', '.target.cls'])\n",
      "dict_keys(['__key__', '.frame_000000.jpeg', '.frame_000001.jpeg', '.frame_000002.jpeg', '.frame_000003.jpeg', '.frame_000004.jpeg', '.frame_000005.jpeg', '.frame_000006.jpeg', '.frame_000007.jpeg', '.frame_000008.jpeg', '.frame_000009.jpeg', '.frame_000010.jpeg', '.frame_000011.jpeg', '.frame_000012.jpeg', '.frame_000013.jpeg', '.frame_000014.jpeg', '.frame_000015.jpeg', '.frame_000016.jpeg', '.frame_000017.jpeg', '.frame_000018.jpeg', '.frame_000019.jpeg', '.frame_000020.jpeg', '.frame_000021.jpeg', '.frame_000022.jpeg', '.frame_000023.jpeg', '.frame_000024.jpeg', '.frame_000025.jpeg', '.frame_000026.jpeg', '.frame_000027.jpeg', '.frame_000028.jpeg', '.frame_000029.jpeg', '.frame_000030.jpeg', '.frame_000031.jpeg', '.frame_000032.jpeg', '.frame_000033.jpeg', '.frame_000034.jpeg', '.frame_000035.jpeg', '.frame_000036.jpeg', '.frame_000037.jpeg', '.frame_000038.jpeg', '.frame_000039.jpeg'])\n"
     ]
    },
    {
     "name": "stderr",
     "output_type": "stream",
     "text": [
      "6it [00:00, 10.07it/s]\n"
     ]
    },
    {
     "ename": "KeyError",
     "evalue": "Caught KeyError in worker process 2.\nOriginal Traceback (most recent call last):\n  File \"/home/lei/miniconda3/envs/RedunMin/lib/python3.10/site-packages/torchdata/dataloader2/communication/iter.py\", line 211, in DataPipeBehindQueues\n    value = source_datapipe.nonblocking_next()\n  File \"/home/lei/miniconda3/envs/RedunMin/lib/python3.10/site-packages/torchdata/dataloader2/communication/iter.py\", line 103, in nonblocking_next\n    return next(self._as_iterator)\n  File \"/home/lei/miniconda3/envs/RedunMin/lib/python3.10/site-packages/torch/utils/data/datapipes/_hook_iterator.py\", line 185, in wrap_generator\n    response = gen.send(request)\n  File \"/home/lei/miniconda3/envs/RedunMin/lib/python3.10/site-packages/torchdata/datapipes/iter/util/prefetcher.py\", line 102, in __iter__\n    raise data\n  File \"/home/lei/miniconda3/envs/RedunMin/lib/python3.10/site-packages/torchdata/datapipes/iter/util/prefetcher.py\", line 72, in thread_worker\n    item = next(itr)\n  File \"/home/lei/miniconda3/envs/RedunMin/lib/python3.10/site-packages/torch/utils/data/datapipes/_hook_iterator.py\", line 144, in __next__\n    return self._get_next()\n  File \"/home/lei/miniconda3/envs/RedunMin/lib/python3.10/site-packages/torch/utils/data/datapipes/_hook_iterator.py\", line 132, in _get_next\n    result = next(self.iterator)\n  File \"/home/lei/miniconda3/envs/RedunMin/lib/python3.10/site-packages/torch/utils/data/datapipes/_hook_iterator.py\", line 185, in wrap_generator\n    response = gen.send(request)\n  File \"/home/lei/miniconda3/envs/RedunMin/lib/python3.10/site-packages/torch/utils/data/datapipes/iter/combining.py\", line 589, in __iter__\n    yield from zip(*iterators)\n  File \"/home/lei/miniconda3/envs/RedunMin/lib/python3.10/site-packages/torch/utils/data/datapipes/_hook_iterator.py\", line 144, in __next__\n    return self._get_next()\n  File \"/home/lei/miniconda3/envs/RedunMin/lib/python3.10/site-packages/torch/utils/data/datapipes/_hook_iterator.py\", line 132, in _get_next\n    result = next(self.iterator)\n  File \"/home/lei/miniconda3/envs/RedunMin/lib/python3.10/site-packages/torchdata/datapipes/iter/util/combining.py\", line 368, in get_next_element_by_instance\n    for return_val in super().get_next_element_by_instance(instance_id):\n  File \"/home/lei/miniconda3/envs/RedunMin/lib/python3.10/site-packages/torch/utils/data/datapipes/iter/combining.py\", line 163, in get_next_element_by_instance\n    return_val = next(self._datapipe_iterator)  # type: ignore[arg-type]\n  File \"/home/lei/miniconda3/envs/RedunMin/lib/python3.10/site-packages/torch/utils/data/datapipes/_hook_iterator.py\", line 185, in wrap_generator\n    response = gen.send(request)\n  File \"/home/lei/miniconda3/envs/RedunMin/lib/python3.10/site-packages/torch/utils/data/datapipes/iter/callable.py\", line 123, in __iter__\n    yield self._apply_fn(data)\n  File \"/home/lei/miniconda3/envs/RedunMin/lib/python3.10/site-packages/torch/utils/data/datapipes/iter/callable.py\", line 88, in _apply_fn\n    return self.fn(data)\n  File \"/home/lei/Documents/STT/src/utils/datapipes.py\", line 58, in _split\n    target = sample.pop(TARGET)\nKeyError: '.target.cls\\nThis exception is thrown by __iter__ of MapperIterDataPipe(datapipe=DecodeFromRaw, fn=_split, input_col=None, output_col=None)'\n",
     "output_type": "error",
     "traceback": [
      "\u001B[0;31m---------------------------------------------------------------------------\u001B[0m",
      "\u001B[0;31mKeyError\u001B[0m                                  Traceback (most recent call last)",
      "File \u001B[0;32m<timed exec>:3\u001B[0m\n",
      "File \u001B[0;32m~/miniconda3/envs/RedunMin/lib/python3.10/site-packages/tqdm/std.py:1178\u001B[0m, in \u001B[0;36mtqdm.__iter__\u001B[0;34m(self)\u001B[0m\n\u001B[1;32m   1175\u001B[0m time \u001B[38;5;241m=\u001B[39m \u001B[38;5;28mself\u001B[39m\u001B[38;5;241m.\u001B[39m_time\n\u001B[1;32m   1177\u001B[0m \u001B[38;5;28;01mtry\u001B[39;00m:\n\u001B[0;32m-> 1178\u001B[0m     \u001B[38;5;28;01mfor\u001B[39;00m obj \u001B[38;5;129;01min\u001B[39;00m iterable:\n\u001B[1;32m   1179\u001B[0m         \u001B[38;5;28;01myield\u001B[39;00m obj\n\u001B[1;32m   1180\u001B[0m         \u001B[38;5;66;03m# Update and possibly print the progressbar.\u001B[39;00m\n\u001B[1;32m   1181\u001B[0m         \u001B[38;5;66;03m# Note: does not call self.update(1) for speed optimisation.\u001B[39;00m\n",
      "File \u001B[0;32m~/miniconda3/envs/RedunMin/lib/python3.10/site-packages/torchdata/dataloader2/dataloader2.py:46\u001B[0m, in \u001B[0;36mDataLoader2Iterator.__next__\u001B[0;34m(self)\u001B[0m\n\u001B[1;32m     44\u001B[0m     \u001B[38;5;28;01mraise\u001B[39;00m PauseIteration(\u001B[38;5;124m\"\u001B[39m\u001B[38;5;124mDataLoader2 has been paused. `resume` must be called before continuing.\u001B[39m\u001B[38;5;124m\"\u001B[39m)\n\u001B[1;32m     45\u001B[0m \u001B[38;5;28;01melse\u001B[39;00m:\n\u001B[0;32m---> 46\u001B[0m     next_val \u001B[38;5;241m=\u001B[39m \u001B[38;5;28;43mnext\u001B[39;49m\u001B[43m(\u001B[49m\u001B[38;5;28;43mself\u001B[39;49m\u001B[38;5;241;43m.\u001B[39;49m\u001B[43mdataloader\u001B[49m\u001B[38;5;241;43m.\u001B[39;49m\u001B[43m_datapipe_iter\u001B[49m\u001B[43m)\u001B[49m  \u001B[38;5;66;03m# type: ignore[arg-type]\u001B[39;00m\n\u001B[1;32m     47\u001B[0m     \u001B[38;5;28;01mif\u001B[39;00m \u001B[38;5;28mself\u001B[39m\u001B[38;5;241m.\u001B[39mlimit_threshold \u001B[38;5;129;01mis\u001B[39;00m \u001B[38;5;129;01mnot\u001B[39;00m \u001B[38;5;28;01mNone\u001B[39;00m:\n\u001B[1;32m     48\u001B[0m         \u001B[38;5;28mself\u001B[39m\u001B[38;5;241m.\u001B[39mlimit_counter \u001B[38;5;241m=\u001B[39m \u001B[38;5;28mself\u001B[39m\u001B[38;5;241m.\u001B[39mlimit_counter \u001B[38;5;241m+\u001B[39m \u001B[38;5;241m1\u001B[39m  \u001B[38;5;66;03m# type: ignore[operator]\u001B[39;00m\n",
      "File \u001B[0;32m~/miniconda3/envs/RedunMin/lib/python3.10/site-packages/torch/utils/data/datapipes/_hook_iterator.py:185\u001B[0m, in \u001B[0;36mhook_iterator.<locals>.wrap_generator\u001B[0;34m(*args, **kwargs)\u001B[0m\n\u001B[1;32m    183\u001B[0m         \u001B[38;5;28;01melse\u001B[39;00m:  \u001B[38;5;66;03m# Decided against using `contextlib.nullcontext` for performance reasons\u001B[39;00m\n\u001B[1;32m    184\u001B[0m             _check_iterator_valid(datapipe, iterator_id)\n\u001B[0;32m--> 185\u001B[0m             response \u001B[38;5;241m=\u001B[39m \u001B[43mgen\u001B[49m\u001B[38;5;241;43m.\u001B[39;49m\u001B[43msend\u001B[49m\u001B[43m(\u001B[49m\u001B[43mrequest\u001B[49m\u001B[43m)\u001B[49m\n\u001B[1;32m    186\u001B[0m \u001B[38;5;28;01mexcept\u001B[39;00m \u001B[38;5;167;01mStopIteration\u001B[39;00m \u001B[38;5;28;01mas\u001B[39;00m e:\n\u001B[1;32m    187\u001B[0m     \u001B[38;5;28;01mreturn\u001B[39;00m\n",
      "File \u001B[0;32m~/miniconda3/envs/RedunMin/lib/python3.10/site-packages/torchdata/datapipes/iter/util/prefetcher.py:102\u001B[0m, in \u001B[0;36mPrefetcherIterDataPipe.__iter__\u001B[0;34m(self)\u001B[0m\n\u001B[1;32m    100\u001B[0m         \u001B[38;5;28;01mif\u001B[39;00m \u001B[38;5;28misinstance\u001B[39m(data, (\u001B[38;5;167;01mStopIteration\u001B[39;00m, communication\u001B[38;5;241m.\u001B[39miter\u001B[38;5;241m.\u001B[39mTerminateRequired)):\n\u001B[1;32m    101\u001B[0m             \u001B[38;5;28;01mbreak\u001B[39;00m\n\u001B[0;32m--> 102\u001B[0m         \u001B[38;5;28;01mraise\u001B[39;00m data\n\u001B[1;32m    103\u001B[0m     \u001B[38;5;28;01myield\u001B[39;00m data\n\u001B[1;32m    104\u001B[0m \u001B[38;5;28;01melse\u001B[39;00m:\n",
      "File \u001B[0;32m~/miniconda3/envs/RedunMin/lib/python3.10/site-packages/torchdata/datapipes/iter/util/prefetcher.py:72\u001B[0m, in \u001B[0;36mPrefetcherIterDataPipe.thread_worker\u001B[0;34m(prefetch_data)\u001B[0m\n\u001B[1;32m     70\u001B[0m \u001B[38;5;28;01mif\u001B[39;00m \u001B[38;5;28mlen\u001B[39m(prefetch_data\u001B[38;5;241m.\u001B[39mprefetch_buffer) \u001B[38;5;241m<\u001B[39m prefetch_data\u001B[38;5;241m.\u001B[39mbuffer_size:\n\u001B[1;32m     71\u001B[0m     \u001B[38;5;28;01mtry\u001B[39;00m:\n\u001B[0;32m---> 72\u001B[0m         item \u001B[38;5;241m=\u001B[39m \u001B[38;5;28;43mnext\u001B[39;49m\u001B[43m(\u001B[49m\u001B[43mitr\u001B[49m\u001B[43m)\u001B[49m\n\u001B[1;32m     73\u001B[0m         prefetch_data\u001B[38;5;241m.\u001B[39mprefetch_buffer\u001B[38;5;241m.\u001B[39mappend(item)\n\u001B[1;32m     74\u001B[0m     \u001B[38;5;28;01mexcept\u001B[39;00m \u001B[38;5;167;01mException\u001B[39;00m \u001B[38;5;28;01mas\u001B[39;00m e:\n",
      "File \u001B[0;32m~/miniconda3/envs/RedunMin/lib/python3.10/site-packages/torch/utils/data/datapipes/_hook_iterator.py:185\u001B[0m, in \u001B[0;36mhook_iterator.<locals>.wrap_generator\u001B[0;34m(*args, **kwargs)\u001B[0m\n\u001B[1;32m    183\u001B[0m         \u001B[38;5;28;01melse\u001B[39;00m:  \u001B[38;5;66;03m# Decided against using `contextlib.nullcontext` for performance reasons\u001B[39;00m\n\u001B[1;32m    184\u001B[0m             _check_iterator_valid(datapipe, iterator_id)\n\u001B[0;32m--> 185\u001B[0m             response \u001B[38;5;241m=\u001B[39m \u001B[43mgen\u001B[49m\u001B[38;5;241;43m.\u001B[39;49m\u001B[43msend\u001B[49m\u001B[43m(\u001B[49m\u001B[43mrequest\u001B[49m\u001B[43m)\u001B[49m\n\u001B[1;32m    186\u001B[0m \u001B[38;5;28;01mexcept\u001B[39;00m \u001B[38;5;167;01mStopIteration\u001B[39;00m \u001B[38;5;28;01mas\u001B[39;00m e:\n\u001B[1;32m    187\u001B[0m     \u001B[38;5;28;01mreturn\u001B[39;00m\n",
      "File \u001B[0;32m~/miniconda3/envs/RedunMin/lib/python3.10/site-packages/torchdata/dataloader2/communication/iter.py:345\u001B[0m, in \u001B[0;36m_IterateQueueDataPipes.__iter__\u001B[0;34m(self)\u001B[0m\n\u001B[1;32m    343\u001B[0m     \u001B[38;5;28;01mraise\u001B[39;00m communication\u001B[38;5;241m.\u001B[39miter\u001B[38;5;241m.\u001B[39mTerminateRequired\n\u001B[1;32m    344\u001B[0m \u001B[38;5;28;01mif\u001B[39;00m \u001B[38;5;28misinstance\u001B[39m(response, communication\u001B[38;5;241m.\u001B[39mmessages\u001B[38;5;241m.\u001B[39mWorkerExceptionResponse):\n\u001B[0;32m--> 345\u001B[0m     \u001B[43mresponse\u001B[49m\u001B[38;5;241;43m.\u001B[39;49m\u001B[43mexc\u001B[49m\u001B[38;5;241;43m.\u001B[39;49m\u001B[43mreraise\u001B[49m\u001B[43m(\u001B[49m\u001B[43m)\u001B[49m\n\u001B[1;32m    346\u001B[0m \u001B[38;5;28;01mif\u001B[39;00m \u001B[38;5;28mlen\u001B[39m(\u001B[38;5;28mself\u001B[39m\u001B[38;5;241m.\u001B[39mres_buffers[idx]) \u001B[38;5;241m==\u001B[39m \u001B[38;5;241m0\u001B[39m:  \u001B[38;5;66;03m# Only request if buffer is empty\u001B[39;00m\n\u001B[1;32m    347\u001B[0m     \u001B[38;5;28mself\u001B[39m\u001B[38;5;241m.\u001B[39mdatapipes[idx]\u001B[38;5;241m.\u001B[39mprotocol\u001B[38;5;241m.\u001B[39mrequest_next()\n",
      "File \u001B[0;32m~/miniconda3/envs/RedunMin/lib/python3.10/site-packages/torchdata/_utils.py:52\u001B[0m, in \u001B[0;36mExceptionWrapper.reraise\u001B[0;34m(self)\u001B[0m\n\u001B[1;32m     48\u001B[0m \u001B[38;5;28;01mexcept\u001B[39;00m \u001B[38;5;167;01mTypeError\u001B[39;00m:\n\u001B[1;32m     49\u001B[0m     \u001B[38;5;66;03m# If the exception takes multiple arguments, don't try to\u001B[39;00m\n\u001B[1;32m     50\u001B[0m     \u001B[38;5;66;03m# instantiate since we don't know how to\u001B[39;00m\n\u001B[1;32m     51\u001B[0m     \u001B[38;5;28;01mraise\u001B[39;00m \u001B[38;5;167;01mRuntimeError\u001B[39;00m(msg) \u001B[38;5;28;01mfrom\u001B[39;00m \u001B[38;5;28;01mNone\u001B[39;00m\n\u001B[0;32m---> 52\u001B[0m \u001B[38;5;28;01mraise\u001B[39;00m exception\n",
      "\u001B[0;31mKeyError\u001B[0m: Caught KeyError in worker process 2.\nOriginal Traceback (most recent call last):\n  File \"/home/lei/miniconda3/envs/RedunMin/lib/python3.10/site-packages/torchdata/dataloader2/communication/iter.py\", line 211, in DataPipeBehindQueues\n    value = source_datapipe.nonblocking_next()\n  File \"/home/lei/miniconda3/envs/RedunMin/lib/python3.10/site-packages/torchdata/dataloader2/communication/iter.py\", line 103, in nonblocking_next\n    return next(self._as_iterator)\n  File \"/home/lei/miniconda3/envs/RedunMin/lib/python3.10/site-packages/torch/utils/data/datapipes/_hook_iterator.py\", line 185, in wrap_generator\n    response = gen.send(request)\n  File \"/home/lei/miniconda3/envs/RedunMin/lib/python3.10/site-packages/torchdata/datapipes/iter/util/prefetcher.py\", line 102, in __iter__\n    raise data\n  File \"/home/lei/miniconda3/envs/RedunMin/lib/python3.10/site-packages/torchdata/datapipes/iter/util/prefetcher.py\", line 72, in thread_worker\n    item = next(itr)\n  File \"/home/lei/miniconda3/envs/RedunMin/lib/python3.10/site-packages/torch/utils/data/datapipes/_hook_iterator.py\", line 144, in __next__\n    return self._get_next()\n  File \"/home/lei/miniconda3/envs/RedunMin/lib/python3.10/site-packages/torch/utils/data/datapipes/_hook_iterator.py\", line 132, in _get_next\n    result = next(self.iterator)\n  File \"/home/lei/miniconda3/envs/RedunMin/lib/python3.10/site-packages/torch/utils/data/datapipes/_hook_iterator.py\", line 185, in wrap_generator\n    response = gen.send(request)\n  File \"/home/lei/miniconda3/envs/RedunMin/lib/python3.10/site-packages/torch/utils/data/datapipes/iter/combining.py\", line 589, in __iter__\n    yield from zip(*iterators)\n  File \"/home/lei/miniconda3/envs/RedunMin/lib/python3.10/site-packages/torch/utils/data/datapipes/_hook_iterator.py\", line 144, in __next__\n    return self._get_next()\n  File \"/home/lei/miniconda3/envs/RedunMin/lib/python3.10/site-packages/torch/utils/data/datapipes/_hook_iterator.py\", line 132, in _get_next\n    result = next(self.iterator)\n  File \"/home/lei/miniconda3/envs/RedunMin/lib/python3.10/site-packages/torchdata/datapipes/iter/util/combining.py\", line 368, in get_next_element_by_instance\n    for return_val in super().get_next_element_by_instance(instance_id):\n  File \"/home/lei/miniconda3/envs/RedunMin/lib/python3.10/site-packages/torch/utils/data/datapipes/iter/combining.py\", line 163, in get_next_element_by_instance\n    return_val = next(self._datapipe_iterator)  # type: ignore[arg-type]\n  File \"/home/lei/miniconda3/envs/RedunMin/lib/python3.10/site-packages/torch/utils/data/datapipes/_hook_iterator.py\", line 185, in wrap_generator\n    response = gen.send(request)\n  File \"/home/lei/miniconda3/envs/RedunMin/lib/python3.10/site-packages/torch/utils/data/datapipes/iter/callable.py\", line 123, in __iter__\n    yield self._apply_fn(data)\n  File \"/home/lei/miniconda3/envs/RedunMin/lib/python3.10/site-packages/torch/utils/data/datapipes/iter/callable.py\", line 88, in _apply_fn\n    return self.fn(data)\n  File \"/home/lei/Documents/STT/src/utils/datapipes.py\", line 58, in _split\n    target = sample.pop(TARGET)\nKeyError: '.target.cls\\nThis exception is thrown by __iter__ of MapperIterDataPipe(datapipe=DecodeFromRaw, fn=_split, input_col=None, output_col=None)'\n"
     ]
    }
   ],
   "source": [
    "%%time\n",
    "from tqdm import tqdm\n",
    "\n",
    "for batch in tqdm(dl):\n",
    "    pass"
   ],
   "metadata": {
    "collapsed": false,
    "ExecuteTime": {
     "end_time": "2023-05-29T06:45:04.625756679Z",
     "start_time": "2023-05-29T06:45:03.501864623Z"
    }
   }
  },
  {
   "cell_type": "code",
   "execution_count": 4,
   "outputs": [],
   "source": [
    "dl = Dataloader(path, batch_size=1, transforms=transforms, num_workers=2, prefetch_count=8).dl"
   ],
   "metadata": {
    "collapsed": false,
    "ExecuteTime": {
     "end_time": "2023-05-29T06:07:50.714792597Z",
     "start_time": "2023-05-29T06:07:50.712850725Z"
    }
   }
  },
  {
   "cell_type": "code",
   "execution_count": 5,
   "outputs": [
    {
     "name": "stderr",
     "output_type": "stream",
     "text": [
      "14640it [08:32, 28.57it/s]"
     ]
    },
    {
     "name": "stdout",
     "output_type": "stream",
     "text": [
      "CPU times: user 23.2 s, sys: 12.6 s, total: 35.9 s\n",
      "Wall time: 8min 32s\n"
     ]
    },
    {
     "name": "stderr",
     "output_type": "stream",
     "text": [
      "\n"
     ]
    }
   ],
   "source": [
    "%%time\n",
    "from tqdm import tqdm\n",
    "\n",
    "for batch in tqdm(dl):\n",
    "    pass"
   ],
   "metadata": {
    "collapsed": false,
    "ExecuteTime": {
     "end_time": "2023-05-29T06:16:23.163180076Z",
     "start_time": "2023-05-29T06:07:50.715502578Z"
    }
   }
  },
  {
   "cell_type": "code",
   "execution_count": null,
   "outputs": [],
   "source": [],
   "metadata": {
    "collapsed": false
   }
  }
 ],
 "metadata": {
  "kernelspec": {
   "display_name": "Python 3",
   "language": "python",
   "name": "python3"
  },
  "language_info": {
   "codemirror_mode": {
    "name": "ipython",
    "version": 2
   },
   "file_extension": ".py",
   "mimetype": "text/x-python",
   "name": "python",
   "nbconvert_exporter": "python",
   "pygments_lexer": "ipython2",
   "version": "2.7.6"
  }
 },
 "nbformat": 4,
 "nbformat_minor": 0
}
