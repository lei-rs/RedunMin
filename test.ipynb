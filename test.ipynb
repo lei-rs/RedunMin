{
 "cells": [
  {
   "cell_type": "code",
   "execution_count": 1,
   "outputs": [],
   "source": [
    "import sys; sys.path.append('src')\n",
    "import src.utils.callable as C\n",
    "from src.utils import SingleWorkerDataset, Dataloader"
   ],
   "metadata": {
    "collapsed": false,
    "ExecuteTime": {
     "end_time": "2023-05-28T04:00:44.714717044Z",
     "start_time": "2023-05-28T04:00:43.814665948Z"
    }
   }
  },
  {
   "cell_type": "code",
   "execution_count": 2,
   "outputs": [],
   "source": [
    "path = ['data/k400/test.tar', 'data/k400/test1.tar']"
   ],
   "metadata": {
    "collapsed": false,
    "ExecuteTime": {
     "end_time": "2023-05-28T04:00:44.716669875Z",
     "start_time": "2023-05-28T04:00:44.715818572Z"
    }
   }
  },
  {
   "cell_type": "code",
   "execution_count": 5,
   "outputs": [],
   "source": [
    "transforms = [\n",
    "    C.SampleFrames(128, 'uniform'),\n",
    "    C.FramesToArray(),\n",
    "]\n",
    "\n",
    "dl = Dataloader(path, batch_size=32, transforms=transforms, num_workers=8, prefetch_count=8)"
   ],
   "metadata": {
    "collapsed": false,
    "ExecuteTime": {
     "end_time": "2023-05-28T04:02:51.997574842Z",
     "start_time": "2023-05-28T04:02:51.995256222Z"
    }
   }
  },
  {
   "cell_type": "code",
   "execution_count": 6,
   "outputs": [
    {
     "name": "stderr",
     "output_type": "stream",
     "text": [
      "14it [00:52,  2.37s/it]Process ForkProcess-15:\n",
      "Process ForkProcess-11:\n",
      "Process ForkProcess-14:\n",
      "Process ForkProcess-12:\n",
      "Process ForkProcess-13:\n",
      "Process ForkProcess-16:\n",
      "Traceback (most recent call last):\n",
      "Traceback (most recent call last):\n",
      "Traceback (most recent call last):\n",
      "  File \"/home/lei/miniconda3/lib/python3.10/multiprocessing/process.py\", line 314, in _bootstrap\n",
      "    self.run()\n",
      "Traceback (most recent call last):\n",
      "Traceback (most recent call last):\n",
      "Traceback (most recent call last):\n",
      "  File \"/home/lei/miniconda3/lib/python3.10/multiprocessing/process.py\", line 314, in _bootstrap\n",
      "    self.run()\n",
      "  File \"/home/lei/miniconda3/lib/python3.10/multiprocessing/process.py\", line 314, in _bootstrap\n",
      "    self.run()\n",
      "  File \"/home/lei/miniconda3/lib/python3.10/multiprocessing/process.py\", line 314, in _bootstrap\n",
      "    self.run()\n",
      "  File \"/home/lei/miniconda3/lib/python3.10/multiprocessing/process.py\", line 314, in _bootstrap\n",
      "    self.run()\n",
      "  File \"/home/lei/miniconda3/lib/python3.10/multiprocessing/process.py\", line 108, in run\n",
      "    self._target(*self._args, **self._kwargs)\n",
      "  File \"/home/lei/miniconda3/lib/python3.10/multiprocessing/process.py\", line 108, in run\n",
      "    self._target(*self._args, **self._kwargs)\n",
      "  File \"/home/lei/miniconda3/lib/python3.10/multiprocessing/process.py\", line 314, in _bootstrap\n",
      "    self.run()\n",
      "  File \"/home/lei/miniconda3/lib/python3.10/multiprocessing/process.py\", line 108, in run\n",
      "    self._target(*self._args, **self._kwargs)\n",
      "  File \"/home/lei/miniconda3/lib/python3.10/multiprocessing/process.py\", line 108, in run\n",
      "    self._target(*self._args, **self._kwargs)\n",
      "  File \"/home/lei/miniconda3/lib/python3.10/multiprocessing/process.py\", line 108, in run\n",
      "    self._target(*self._args, **self._kwargs)\n",
      "  File \"/home/lei/miniconda3/lib/python3.10/site-packages/torchdata/dataloader2/communication/eventloop.py\", line 133, in DataPipeToQueuesLoop\n",
      "    for _ in loop:\n",
      "  File \"/home/lei/miniconda3/lib/python3.10/site-packages/torchdata/dataloader2/communication/eventloop.py\", line 133, in DataPipeToQueuesLoop\n",
      "    for _ in loop:\n",
      "  File \"/home/lei/miniconda3/lib/python3.10/site-packages/torchdata/dataloader2/communication/eventloop.py\", line 133, in DataPipeToQueuesLoop\n",
      "    for _ in loop:\n",
      "  File \"/home/lei/miniconda3/lib/python3.10/site-packages/torchdata/dataloader2/communication/eventloop.py\", line 133, in DataPipeToQueuesLoop\n",
      "    for _ in loop:\n",
      "  File \"/home/lei/miniconda3/lib/python3.10/site-packages/torchdata/dataloader2/communication/eventloop.py\", line 133, in DataPipeToQueuesLoop\n",
      "    for _ in loop:\n",
      "  File \"/home/lei/miniconda3/lib/python3.10/site-packages/torchdata/dataloader2/communication/iter.py\", line 147, in DataPipeBehindQueues\n",
      "    request = protocol.get_new_request(block=blocking_request_get)\n",
      "  File \"/home/lei/miniconda3/lib/python3.10/site-packages/torchdata/dataloader2/communication/iter.py\", line 147, in DataPipeBehindQueues\n",
      "    request = protocol.get_new_request(block=blocking_request_get)\n",
      "  File \"/home/lei/miniconda3/lib/python3.10/multiprocessing/process.py\", line 108, in run\n",
      "    self._target(*self._args, **self._kwargs)\n",
      "  File \"/home/lei/miniconda3/lib/python3.10/site-packages/torchdata/dataloader2/communication/iter.py\", line 147, in DataPipeBehindQueues\n",
      "    request = protocol.get_new_request(block=blocking_request_get)\n",
      "  File \"/home/lei/miniconda3/lib/python3.10/site-packages/torchdata/dataloader2/communication/iter.py\", line 147, in DataPipeBehindQueues\n",
      "    request = protocol.get_new_request(block=blocking_request_get)\n",
      "  File \"/home/lei/miniconda3/lib/python3.10/site-packages/torchdata/dataloader2/communication/iter.py\", line 147, in DataPipeBehindQueues\n",
      "    request = protocol.get_new_request(block=blocking_request_get)\n",
      "  File \"/home/lei/miniconda3/lib/python3.10/site-packages/torchdata/dataloader2/communication/protocol.py\", line 104, in get_new_request\n",
      "    response = self.request_queue.get(block=block)\n",
      "  File \"/home/lei/miniconda3/lib/python3.10/site-packages/torchdata/dataloader2/communication/eventloop.py\", line 133, in DataPipeToQueuesLoop\n",
      "    for _ in loop:\n",
      "  File \"/home/lei/miniconda3/lib/python3.10/site-packages/torchdata/dataloader2/communication/protocol.py\", line 104, in get_new_request\n",
      "    response = self.request_queue.get(block=block)\n",
      "  File \"/home/lei/miniconda3/lib/python3.10/site-packages/torchdata/dataloader2/communication/protocol.py\", line 104, in get_new_request\n",
      "    response = self.request_queue.get(block=block)\n",
      "  File \"/home/lei/miniconda3/lib/python3.10/site-packages/torchdata/dataloader2/communication/protocol.py\", line 104, in get_new_request\n",
      "    response = self.request_queue.get(block=block)\n",
      "  File \"/home/lei/miniconda3/lib/python3.10/multiprocessing/queues.py\", line 103, in get\n",
      "    res = self._recv_bytes()\n",
      "  File \"/home/lei/miniconda3/lib/python3.10/site-packages/torchdata/dataloader2/communication/iter.py\", line 147, in DataPipeBehindQueues\n",
      "    request = protocol.get_new_request(block=blocking_request_get)\n",
      "  File \"/home/lei/miniconda3/lib/python3.10/multiprocessing/queues.py\", line 103, in get\n",
      "    res = self._recv_bytes()\n",
      "  File \"/home/lei/miniconda3/lib/python3.10/site-packages/torchdata/dataloader2/communication/protocol.py\", line 104, in get_new_request\n",
      "    response = self.request_queue.get(block=block)\n",
      "  File \"/home/lei/miniconda3/lib/python3.10/multiprocessing/connection.py\", line 216, in recv_bytes\n",
      "    buf = self._recv_bytes(maxlength)\n",
      "  File \"/home/lei/miniconda3/lib/python3.10/multiprocessing/queues.py\", line 103, in get\n",
      "    res = self._recv_bytes()\n",
      "  File \"/home/lei/miniconda3/lib/python3.10/multiprocessing/connection.py\", line 216, in recv_bytes\n",
      "    buf = self._recv_bytes(maxlength)\n",
      "  File \"/home/lei/miniconda3/lib/python3.10/multiprocessing/queues.py\", line 103, in get\n",
      "    res = self._recv_bytes()\n",
      "  File \"/home/lei/miniconda3/lib/python3.10/site-packages/torchdata/dataloader2/communication/protocol.py\", line 104, in get_new_request\n",
      "    response = self.request_queue.get(block=block)\n",
      "  File \"/home/lei/miniconda3/lib/python3.10/multiprocessing/queues.py\", line 103, in get\n",
      "    res = self._recv_bytes()\n",
      "  File \"/home/lei/miniconda3/lib/python3.10/multiprocessing/connection.py\", line 414, in _recv_bytes\n",
      "    buf = self._recv(4)\n",
      "  File \"/home/lei/miniconda3/lib/python3.10/multiprocessing/connection.py\", line 414, in _recv_bytes\n",
      "    buf = self._recv(4)\n",
      "  File \"/home/lei/miniconda3/lib/python3.10/multiprocessing/connection.py\", line 379, in _recv\n",
      "    chunk = read(handle, remaining)\n",
      "  File \"/home/lei/miniconda3/lib/python3.10/multiprocessing/connection.py\", line 216, in recv_bytes\n",
      "    buf = self._recv_bytes(maxlength)\n",
      "  File \"/home/lei/miniconda3/lib/python3.10/multiprocessing/connection.py\", line 216, in recv_bytes\n",
      "    buf = self._recv_bytes(maxlength)\n",
      "  File \"/home/lei/miniconda3/lib/python3.10/multiprocessing/connection.py\", line 379, in _recv\n",
      "    chunk = read(handle, remaining)\n",
      "KeyboardInterrupt\n",
      "  File \"/home/lei/miniconda3/lib/python3.10/multiprocessing/queues.py\", line 103, in get\n",
      "    res = self._recv_bytes()\n",
      "  File \"/home/lei/miniconda3/lib/python3.10/multiprocessing/connection.py\", line 216, in recv_bytes\n",
      "    buf = self._recv_bytes(maxlength)\n",
      "  File \"/home/lei/miniconda3/lib/python3.10/multiprocessing/connection.py\", line 414, in _recv_bytes\n",
      "    buf = self._recv(4)\n",
      "  File \"/home/lei/miniconda3/lib/python3.10/multiprocessing/connection.py\", line 414, in _recv_bytes\n",
      "    buf = self._recv(4)\n",
      "KeyboardInterrupt\n",
      "  File \"/home/lei/miniconda3/lib/python3.10/multiprocessing/connection.py\", line 216, in recv_bytes\n",
      "    buf = self._recv_bytes(maxlength)\n",
      "  File \"/home/lei/miniconda3/lib/python3.10/multiprocessing/connection.py\", line 379, in _recv\n",
      "    chunk = read(handle, remaining)\n",
      "  File \"/home/lei/miniconda3/lib/python3.10/multiprocessing/connection.py\", line 414, in _recv_bytes\n",
      "    buf = self._recv(4)\n",
      "  File \"/home/lei/miniconda3/lib/python3.10/multiprocessing/connection.py\", line 414, in _recv_bytes\n",
      "    buf = self._recv(4)\n",
      "  File \"/home/lei/miniconda3/lib/python3.10/multiprocessing/connection.py\", line 379, in _recv\n",
      "    chunk = read(handle, remaining)\n",
      "KeyboardInterrupt\n",
      "  File \"/home/lei/miniconda3/lib/python3.10/multiprocessing/connection.py\", line 379, in _recv\n",
      "    chunk = read(handle, remaining)\n",
      "  File \"/home/lei/miniconda3/lib/python3.10/multiprocessing/connection.py\", line 379, in _recv\n",
      "    chunk = read(handle, remaining)\n",
      "KeyboardInterrupt\n",
      "KeyboardInterrupt\n",
      "KeyboardInterrupt\n",
      "Process ForkProcess-9:\n",
      "14it [00:52,  3.78s/it]Traceback (most recent call last):\n",
      "  File \"/home/lei/miniconda3/lib/python3.10/multiprocessing/process.py\", line 314, in _bootstrap\n",
      "    self.run()\n",
      "  File \"/home/lei/miniconda3/lib/python3.10/multiprocessing/process.py\", line 108, in run\n",
      "    self._target(*self._args, **self._kwargs)\n",
      "  File \"/home/lei/miniconda3/lib/python3.10/site-packages/torchdata/dataloader2/communication/eventloop.py\", line 133, in DataPipeToQueuesLoop\n",
      "    for _ in loop:\n",
      "  File \"/home/lei/miniconda3/lib/python3.10/site-packages/torchdata/dataloader2/communication/iter.py\", line 147, in DataPipeBehindQueues\n",
      "    request = protocol.get_new_request(block=blocking_request_get)\n",
      "  File \"/home/lei/miniconda3/lib/python3.10/site-packages/torchdata/dataloader2/communication/protocol.py\", line 104, in get_new_request\n",
      "    response = self.request_queue.get(block=block)\n",
      "  File \"/home/lei/miniconda3/lib/python3.10/multiprocessing/queues.py\", line 103, in get\n",
      "    res = self._recv_bytes()\n",
      "  File \"/home/lei/miniconda3/lib/python3.10/multiprocessing/connection.py\", line 216, in recv_bytes\n",
      "    buf = self._recv_bytes(maxlength)\n",
      "  File \"/home/lei/miniconda3/lib/python3.10/multiprocessing/connection.py\", line 414, in _recv_bytes\n",
      "    buf = self._recv(4)\n",
      "  File \"/home/lei/miniconda3/lib/python3.10/multiprocessing/connection.py\", line 379, in _recv\n",
      "    chunk = read(handle, remaining)\n",
      "KeyboardInterrupt\n",
      "\n"
     ]
    },
    {
     "ename": "KeyboardInterrupt",
     "evalue": "",
     "output_type": "error",
     "traceback": [
      "\u001B[0;31m---------------------------------------------------------------------------\u001B[0m",
      "\u001B[0;31mKeyboardInterrupt\u001B[0m                         Traceback (most recent call last)",
      "Cell \u001B[0;32mIn[6], line 3\u001B[0m\n\u001B[1;32m      1\u001B[0m \u001B[38;5;28;01mfrom\u001B[39;00m \u001B[38;5;21;01mtqdm\u001B[39;00m \u001B[38;5;28;01mimport\u001B[39;00m tqdm\n\u001B[0;32m----> 3\u001B[0m \u001B[38;5;28;01mfor\u001B[39;00m batch \u001B[38;5;129;01min\u001B[39;00m tqdm(dl):\n\u001B[1;32m      4\u001B[0m     \u001B[38;5;28;01mpass\u001B[39;00m\n",
      "File \u001B[0;32m~/miniconda3/lib/python3.10/site-packages/tqdm/std.py:1178\u001B[0m, in \u001B[0;36mtqdm.__iter__\u001B[0;34m(self)\u001B[0m\n\u001B[1;32m   1175\u001B[0m time \u001B[38;5;241m=\u001B[39m \u001B[38;5;28mself\u001B[39m\u001B[38;5;241m.\u001B[39m_time\n\u001B[1;32m   1177\u001B[0m \u001B[38;5;28;01mtry\u001B[39;00m:\n\u001B[0;32m-> 1178\u001B[0m     \u001B[38;5;28;01mfor\u001B[39;00m obj \u001B[38;5;129;01min\u001B[39;00m iterable:\n\u001B[1;32m   1179\u001B[0m         \u001B[38;5;28;01myield\u001B[39;00m obj\n\u001B[1;32m   1180\u001B[0m         \u001B[38;5;66;03m# Update and possibly print the progressbar.\u001B[39;00m\n\u001B[1;32m   1181\u001B[0m         \u001B[38;5;66;03m# Note: does not call self.update(1) for speed optimisation.\u001B[39;00m\n",
      "File \u001B[0;32m~/Documents/STT/src/utils/datapipes.py:122\u001B[0m, in \u001B[0;36mDataloader.__iter__\u001B[0;34m(self)\u001B[0m\n\u001B[1;32m    121\u001B[0m \u001B[38;5;28;01mdef\u001B[39;00m \u001B[38;5;21m__iter__\u001B[39m(\u001B[38;5;28mself\u001B[39m):\n\u001B[0;32m--> 122\u001B[0m     \u001B[38;5;28;01mfor\u001B[39;00m x \u001B[38;5;129;01min\u001B[39;00m \u001B[38;5;28mself\u001B[39m\u001B[38;5;241m.\u001B[39mget_wrapped_dl():\n\u001B[1;32m    123\u001B[0m         \u001B[38;5;28;01myield\u001B[39;00m x\n",
      "File \u001B[0;32m~/miniconda3/lib/python3.10/site-packages/torch/utils/data/datapipes/_hook_iterator.py:185\u001B[0m, in \u001B[0;36mhook_iterator.<locals>.wrap_generator\u001B[0;34m(*args, **kwargs)\u001B[0m\n\u001B[1;32m    183\u001B[0m         \u001B[38;5;28;01melse\u001B[39;00m:  \u001B[38;5;66;03m# Decided against using `contextlib.nullcontext` for performance reasons\u001B[39;00m\n\u001B[1;32m    184\u001B[0m             _check_iterator_valid(datapipe, iterator_id)\n\u001B[0;32m--> 185\u001B[0m             response \u001B[38;5;241m=\u001B[39m \u001B[43mgen\u001B[49m\u001B[38;5;241;43m.\u001B[39;49m\u001B[43msend\u001B[49m\u001B[43m(\u001B[49m\u001B[43mrequest\u001B[49m\u001B[43m)\u001B[49m\n\u001B[1;32m    186\u001B[0m \u001B[38;5;28;01mexcept\u001B[39;00m \u001B[38;5;167;01mStopIteration\u001B[39;00m \u001B[38;5;28;01mas\u001B[39;00m e:\n\u001B[1;32m    187\u001B[0m     \u001B[38;5;28;01mreturn\u001B[39;00m\n",
      "File \u001B[0;32m~/miniconda3/lib/python3.10/site-packages/torch/utils/data/datapipes/iter/grouping.py:70\u001B[0m, in \u001B[0;36mBatcherIterDataPipe.__iter__\u001B[0;34m(self)\u001B[0m\n\u001B[1;32m     68\u001B[0m \u001B[38;5;28;01mdef\u001B[39;00m \u001B[38;5;21m__iter__\u001B[39m(\u001B[38;5;28mself\u001B[39m) \u001B[38;5;241m-\u001B[39m\u001B[38;5;241m>\u001B[39m Iterator[DataChunk]:\n\u001B[1;32m     69\u001B[0m     batch: List \u001B[38;5;241m=\u001B[39m []\n\u001B[0;32m---> 70\u001B[0m     \u001B[38;5;28;01mfor\u001B[39;00m x \u001B[38;5;129;01min\u001B[39;00m \u001B[38;5;28mself\u001B[39m\u001B[38;5;241m.\u001B[39mdatapipe:\n\u001B[1;32m     71\u001B[0m         batch\u001B[38;5;241m.\u001B[39mappend(x)\n\u001B[1;32m     72\u001B[0m         \u001B[38;5;28;01mif\u001B[39;00m \u001B[38;5;28mlen\u001B[39m(batch) \u001B[38;5;241m==\u001B[39m \u001B[38;5;28mself\u001B[39m\u001B[38;5;241m.\u001B[39mbatch_size:\n",
      "File \u001B[0;32m~/miniconda3/lib/python3.10/site-packages/torch/utils/data/datapipes/_hook_iterator.py:185\u001B[0m, in \u001B[0;36mhook_iterator.<locals>.wrap_generator\u001B[0;34m(*args, **kwargs)\u001B[0m\n\u001B[1;32m    183\u001B[0m         \u001B[38;5;28;01melse\u001B[39;00m:  \u001B[38;5;66;03m# Decided against using `contextlib.nullcontext` for performance reasons\u001B[39;00m\n\u001B[1;32m    184\u001B[0m             _check_iterator_valid(datapipe, iterator_id)\n\u001B[0;32m--> 185\u001B[0m             response \u001B[38;5;241m=\u001B[39m \u001B[43mgen\u001B[49m\u001B[38;5;241;43m.\u001B[39;49m\u001B[43msend\u001B[49m\u001B[43m(\u001B[49m\u001B[43mrequest\u001B[49m\u001B[43m)\u001B[49m\n\u001B[1;32m    186\u001B[0m \u001B[38;5;28;01mexcept\u001B[39;00m \u001B[38;5;167;01mStopIteration\u001B[39;00m \u001B[38;5;28;01mas\u001B[39;00m e:\n\u001B[1;32m    187\u001B[0m     \u001B[38;5;28;01mreturn\u001B[39;00m\n",
      "File \u001B[0;32m~/miniconda3/lib/python3.10/site-packages/torch/utils/data/datapipes/iter/combinatorics.py:127\u001B[0m, in \u001B[0;36mShufflerIterDataPipe.__iter__\u001B[0;34m(self)\u001B[0m\n\u001B[1;32m    125\u001B[0m         \u001B[38;5;28;01myield\u001B[39;00m x\n\u001B[1;32m    126\u001B[0m \u001B[38;5;28;01melse\u001B[39;00m:\n\u001B[0;32m--> 127\u001B[0m     \u001B[38;5;28;01mfor\u001B[39;00m x \u001B[38;5;129;01min\u001B[39;00m \u001B[38;5;28mself\u001B[39m\u001B[38;5;241m.\u001B[39mdatapipe:\n\u001B[1;32m    128\u001B[0m         \u001B[38;5;28;01mif\u001B[39;00m \u001B[38;5;28mlen\u001B[39m(\u001B[38;5;28mself\u001B[39m\u001B[38;5;241m.\u001B[39m_buffer) \u001B[38;5;241m==\u001B[39m \u001B[38;5;28mself\u001B[39m\u001B[38;5;241m.\u001B[39mbuffer_size:\n\u001B[1;32m    129\u001B[0m             idx \u001B[38;5;241m=\u001B[39m \u001B[38;5;28mself\u001B[39m\u001B[38;5;241m.\u001B[39m_rng\u001B[38;5;241m.\u001B[39mrandint(\u001B[38;5;241m0\u001B[39m, \u001B[38;5;28mlen\u001B[39m(\u001B[38;5;28mself\u001B[39m\u001B[38;5;241m.\u001B[39m_buffer) \u001B[38;5;241m-\u001B[39m \u001B[38;5;241m1\u001B[39m)\n",
      "File \u001B[0;32m~/miniconda3/lib/python3.10/site-packages/torch/utils/data/datapipes/_hook_iterator.py:185\u001B[0m, in \u001B[0;36mhook_iterator.<locals>.wrap_generator\u001B[0;34m(*args, **kwargs)\u001B[0m\n\u001B[1;32m    183\u001B[0m         \u001B[38;5;28;01melse\u001B[39;00m:  \u001B[38;5;66;03m# Decided against using `contextlib.nullcontext` for performance reasons\u001B[39;00m\n\u001B[1;32m    184\u001B[0m             _check_iterator_valid(datapipe, iterator_id)\n\u001B[0;32m--> 185\u001B[0m             response \u001B[38;5;241m=\u001B[39m \u001B[43mgen\u001B[49m\u001B[38;5;241;43m.\u001B[39;49m\u001B[43msend\u001B[49m\u001B[43m(\u001B[49m\u001B[43mrequest\u001B[49m\u001B[43m)\u001B[49m\n\u001B[1;32m    186\u001B[0m \u001B[38;5;28;01mexcept\u001B[39;00m \u001B[38;5;167;01mStopIteration\u001B[39;00m \u001B[38;5;28;01mas\u001B[39;00m e:\n\u001B[1;32m    187\u001B[0m     \u001B[38;5;28;01mreturn\u001B[39;00m\n",
      "File \u001B[0;32m~/miniconda3/lib/python3.10/site-packages/torch/utils/data/datapipes/iter/utils.py:47\u001B[0m, in \u001B[0;36mIterableWrapperIterDataPipe.__iter__\u001B[0;34m(self)\u001B[0m\n\u001B[1;32m     42\u001B[0m     \u001B[38;5;28;01mexcept\u001B[39;00m \u001B[38;5;167;01mTypeError\u001B[39;00m:\n\u001B[1;32m     43\u001B[0m         warnings\u001B[38;5;241m.\u001B[39mwarn(\n\u001B[1;32m     44\u001B[0m             \u001B[38;5;124m\"\u001B[39m\u001B[38;5;124mThe input iterable can not be deepcopied, \u001B[39m\u001B[38;5;124m\"\u001B[39m\n\u001B[1;32m     45\u001B[0m             \u001B[38;5;124m\"\u001B[39m\u001B[38;5;124mplease be aware of in-place modification would affect source data.\u001B[39m\u001B[38;5;124m\"\u001B[39m\n\u001B[1;32m     46\u001B[0m         )\n\u001B[0;32m---> 47\u001B[0m \u001B[38;5;28;01myield from\u001B[39;00m source_data\n",
      "File \u001B[0;32m~/miniconda3/lib/python3.10/site-packages/torchdata/dataloader2/dataloader2.py:46\u001B[0m, in \u001B[0;36mDataLoader2Iterator.__next__\u001B[0;34m(self)\u001B[0m\n\u001B[1;32m     44\u001B[0m     \u001B[38;5;28;01mraise\u001B[39;00m PauseIteration(\u001B[38;5;124m\"\u001B[39m\u001B[38;5;124mDataLoader2 has been paused. `resume` must be called before continuing.\u001B[39m\u001B[38;5;124m\"\u001B[39m)\n\u001B[1;32m     45\u001B[0m \u001B[38;5;28;01melse\u001B[39;00m:\n\u001B[0;32m---> 46\u001B[0m     next_val \u001B[38;5;241m=\u001B[39m \u001B[38;5;28;43mnext\u001B[39;49m\u001B[43m(\u001B[49m\u001B[38;5;28;43mself\u001B[39;49m\u001B[38;5;241;43m.\u001B[39;49m\u001B[43mdataloader\u001B[49m\u001B[38;5;241;43m.\u001B[39;49m\u001B[43m_datapipe_iter\u001B[49m\u001B[43m)\u001B[49m  \u001B[38;5;66;03m# type: ignore[arg-type]\u001B[39;00m\n\u001B[1;32m     47\u001B[0m     \u001B[38;5;28;01mif\u001B[39;00m \u001B[38;5;28mself\u001B[39m\u001B[38;5;241m.\u001B[39mlimit_threshold \u001B[38;5;129;01mis\u001B[39;00m \u001B[38;5;129;01mnot\u001B[39;00m \u001B[38;5;28;01mNone\u001B[39;00m:\n\u001B[1;32m     48\u001B[0m         \u001B[38;5;28mself\u001B[39m\u001B[38;5;241m.\u001B[39mlimit_counter \u001B[38;5;241m=\u001B[39m \u001B[38;5;28mself\u001B[39m\u001B[38;5;241m.\u001B[39mlimit_counter \u001B[38;5;241m+\u001B[39m \u001B[38;5;241m1\u001B[39m  \u001B[38;5;66;03m# type: ignore[operator]\u001B[39;00m\n",
      "File \u001B[0;32m~/miniconda3/lib/python3.10/site-packages/torch/utils/data/datapipes/_hook_iterator.py:185\u001B[0m, in \u001B[0;36mhook_iterator.<locals>.wrap_generator\u001B[0;34m(*args, **kwargs)\u001B[0m\n\u001B[1;32m    183\u001B[0m         \u001B[38;5;28;01melse\u001B[39;00m:  \u001B[38;5;66;03m# Decided against using `contextlib.nullcontext` for performance reasons\u001B[39;00m\n\u001B[1;32m    184\u001B[0m             _check_iterator_valid(datapipe, iterator_id)\n\u001B[0;32m--> 185\u001B[0m             response \u001B[38;5;241m=\u001B[39m \u001B[43mgen\u001B[49m\u001B[38;5;241;43m.\u001B[39;49m\u001B[43msend\u001B[49m\u001B[43m(\u001B[49m\u001B[43mrequest\u001B[49m\u001B[43m)\u001B[49m\n\u001B[1;32m    186\u001B[0m \u001B[38;5;28;01mexcept\u001B[39;00m \u001B[38;5;167;01mStopIteration\u001B[39;00m \u001B[38;5;28;01mas\u001B[39;00m e:\n\u001B[1;32m    187\u001B[0m     \u001B[38;5;28;01mreturn\u001B[39;00m\n",
      "File \u001B[0;32m~/miniconda3/lib/python3.10/site-packages/torchdata/datapipes/iter/util/prefetcher.py:105\u001B[0m, in \u001B[0;36mPrefetcherIterDataPipe.__iter__\u001B[0;34m(self)\u001B[0m\n\u001B[1;32m    103\u001B[0m             \u001B[38;5;28;01myield\u001B[39;00m data\n\u001B[1;32m    104\u001B[0m         \u001B[38;5;28;01melse\u001B[39;00m:\n\u001B[0;32m--> 105\u001B[0m             \u001B[43mtime\u001B[49m\u001B[38;5;241;43m.\u001B[39;49m\u001B[43msleep\u001B[49m\u001B[43m(\u001B[49m\u001B[43mCONSUMER_SLEEP_INTERVAL\u001B[49m\u001B[43m)\u001B[49m\n\u001B[1;32m    106\u001B[0m \u001B[38;5;28;01mfinally\u001B[39;00m:\n\u001B[1;32m    107\u001B[0m     prefetch_data\u001B[38;5;241m.\u001B[39mrun_prefetcher \u001B[38;5;241m=\u001B[39m \u001B[38;5;28;01mFalse\u001B[39;00m\n",
      "\u001B[0;31mKeyboardInterrupt\u001B[0m: "
     ]
    }
   ],
   "source": [
    "from tqdm import tqdm\n",
    "\n",
    "for batch in tqdm(dl):\n",
    "    pass"
   ],
   "metadata": {
    "collapsed": false,
    "ExecuteTime": {
     "end_time": "2023-05-28T04:03:45.640516126Z",
     "start_time": "2023-05-28T04:02:52.420198349Z"
    }
   }
  },
  {
   "cell_type": "code",
   "execution_count": null,
   "outputs": [],
   "source": [
    "# 1.54"
   ],
   "metadata": {
    "collapsed": false
   }
  }
 ],
 "metadata": {
  "kernelspec": {
   "display_name": "Python 3",
   "language": "python",
   "name": "python3"
  },
  "language_info": {
   "codemirror_mode": {
    "name": "ipython",
    "version": 2
   },
   "file_extension": ".py",
   "mimetype": "text/x-python",
   "name": "python",
   "nbconvert_exporter": "python",
   "pygments_lexer": "ipython2",
   "version": "2.7.6"
  }
 },
 "nbformat": 4,
 "nbformat_minor": 0
}
