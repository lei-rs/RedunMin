{
 "cells": [
  {
   "cell_type": "code",
   "execution_count": 1,
   "outputs": [],
   "source": [
    "from src.data.transforms import Rotate\n",
    "import PIL.Image as Image\n",
    "import jax\n",
    "import jax.numpy as jnp\n",
    "import numpy as np\n",
    "\n",
    "#test = jnp.array(np.array(Image.open('tests/data/test.png').convert('RGB')).transpose(2, 1, 0).reshape(1, 3, 224, 224))\n",
    "test = jnp.array(np.random.randint(0, 255, (32, 3, 224, 224), dtype=np.uint8))\n",
    "key = jax.random.PRNGKey(0)\n",
    "s = Rotate((0, 360))"
   ],
   "metadata": {
    "collapsed": false,
    "ExecuteTime": {
     "end_time": "2023-10-09T05:07:57.066570Z",
     "start_time": "2023-10-09T05:07:51.796837Z"
    }
   },
   "id": "18a4576358409a2a"
  },
  {
   "cell_type": "code",
   "execution_count": 1,
   "outputs": [],
   "source": [
    "from src.data.loader import DataLoader, DLConfig\n",
    "\n",
    "config = DLConfig('tests/data', 1)\n",
    "loader = DataLoader('ssv2', config)"
   ],
   "metadata": {
    "collapsed": false,
    "ExecuteTime": {
     "end_time": "2023-10-09T05:32:54.557409Z",
     "start_time": "2023-10-09T05:32:50.424110Z"
    }
   },
   "id": "a6d5f280f343dfb0"
  },
  {
   "cell_type": "code",
   "execution_count": null,
   "outputs": [
    {
     "name": "stderr",
     "output_type": "stream",
     "text": [
      "4it [00:07,  1.99s/it]\n"
     ]
    },
    {
     "ename": "KeyboardInterrupt",
     "evalue": "",
     "output_type": "error",
     "traceback": [
      "\u001B[0;31m---------------------------------------------------------------------------\u001B[0m",
      "\u001B[0;31mKeyboardInterrupt\u001B[0m                         Traceback (most recent call last)",
      "Cell \u001B[0;32mIn[3], line 3\u001B[0m\n\u001B[1;32m      1\u001B[0m \u001B[38;5;28;01mfrom\u001B[39;00m \u001B[38;5;21;01mtqdm\u001B[39;00m \u001B[38;5;28;01mimport\u001B[39;00m tqdm\n\u001B[0;32m----> 3\u001B[0m \u001B[38;5;28;01mfor\u001B[39;00m x \u001B[38;5;129;01min\u001B[39;00m tqdm(loader\u001B[38;5;241m.\u001B[39mtrain_loader()):\n\u001B[1;32m      4\u001B[0m     \u001B[38;5;28;01mpass\u001B[39;00m\n",
      "File \u001B[0;32m/Volumes/External/miniconda3/envs/RedunMin/lib/python3.10/site-packages/tqdm/std.py:1182\u001B[0m, in \u001B[0;36mtqdm.__iter__\u001B[0;34m(self)\u001B[0m\n\u001B[1;32m   1179\u001B[0m time \u001B[38;5;241m=\u001B[39m \u001B[38;5;28mself\u001B[39m\u001B[38;5;241m.\u001B[39m_time\n\u001B[1;32m   1181\u001B[0m \u001B[38;5;28;01mtry\u001B[39;00m:\n\u001B[0;32m-> 1182\u001B[0m     \u001B[38;5;28;01mfor\u001B[39;00m obj \u001B[38;5;129;01min\u001B[39;00m iterable:\n\u001B[1;32m   1183\u001B[0m         \u001B[38;5;28;01myield\u001B[39;00m obj\n\u001B[1;32m   1184\u001B[0m         \u001B[38;5;66;03m# Update and possibly print the progressbar.\u001B[39;00m\n\u001B[1;32m   1185\u001B[0m         \u001B[38;5;66;03m# Note: does not call self.update(1) for speed optimisation.\u001B[39;00m\n",
      "File \u001B[0;32m/Volumes/External/Projects/RedunMin/src/data/wrappers.py:12\u001B[0m, in \u001B[0;36mBatcher.__iter__\u001B[0;34m(self)\u001B[0m\n\u001B[1;32m     11\u001B[0m \u001B[38;5;28;01mdef\u001B[39;00m \u001B[38;5;21m__iter__\u001B[39m(\u001B[38;5;28mself\u001B[39m):\n\u001B[0;32m---> 12\u001B[0m     \u001B[38;5;28;01mfor\u001B[39;00m item \u001B[38;5;129;01min\u001B[39;00m \u001B[38;5;28mself\u001B[39m\u001B[38;5;241m.\u001B[39minner:\n\u001B[1;32m     13\u001B[0m         \u001B[38;5;28mself\u001B[39m\u001B[38;5;241m.\u001B[39mbuffer[\u001B[38;5;28mself\u001B[39m\u001B[38;5;241m.\u001B[39mbuffer_idx] \u001B[38;5;241m=\u001B[39m item\n\u001B[1;32m     14\u001B[0m         \u001B[38;5;28mself\u001B[39m\u001B[38;5;241m.\u001B[39mbuffer_idx \u001B[38;5;241m+\u001B[39m\u001B[38;5;241m=\u001B[39m \u001B[38;5;241m1\u001B[39m\n",
      "File \u001B[0;32m/Volumes/External/miniconda3/envs/RedunMin/lib/python3.10/site-packages/pypeln/sync/stage.py:98\u001B[0m, in \u001B[0;36mStage.to_iterable\u001B[0;34m(self, maxsize, return_index)\u001B[0m\n\u001B[1;32m     97\u001B[0m \u001B[38;5;28;01mdef\u001B[39;00m \u001B[38;5;21mto_iterable\u001B[39m(\u001B[38;5;28mself\u001B[39m, maxsize, return_index) \u001B[38;5;241m-\u001B[39m\u001B[38;5;241m>\u001B[39m tp\u001B[38;5;241m.\u001B[39mIterable:\n\u001B[0;32m---> 98\u001B[0m     \u001B[38;5;28;01mfor\u001B[39;00m elem \u001B[38;5;129;01min\u001B[39;00m \u001B[38;5;28mself\u001B[39m\u001B[38;5;241m.\u001B[39mrun():\n\u001B[1;32m     99\u001B[0m         \u001B[38;5;28;01mif\u001B[39;00m return_index:\n\u001B[1;32m    100\u001B[0m             \u001B[38;5;28;01myield\u001B[39;00m elem\n",
      "File \u001B[0;32m/Volumes/External/miniconda3/envs/RedunMin/lib/python3.10/site-packages/pypeln/sync/stage.py:78\u001B[0m, in \u001B[0;36mStage.run\u001B[0;34m(self)\u001B[0m\n\u001B[1;32m     74\u001B[0m     kwargs \u001B[38;5;241m=\u001B[39m {}\n\u001B[1;32m     76\u001B[0m kwargs\u001B[38;5;241m.\u001B[39msetdefault(\u001B[38;5;124m\"\u001B[39m\u001B[38;5;124mworker_info\u001B[39m\u001B[38;5;124m\"\u001B[39m, worker_info)\n\u001B[0;32m---> 78\u001B[0m \u001B[38;5;28;01myield from\u001B[39;00m \u001B[38;5;28mself\u001B[39m\u001B[38;5;241m.\u001B[39mprocess_fn(\n\u001B[1;32m     79\u001B[0m     \u001B[38;5;28mself\u001B[39m,\n\u001B[1;32m     80\u001B[0m     \u001B[38;5;241m*\u001B[39m\u001B[38;5;241m*\u001B[39m{key: value \u001B[38;5;28;01mfor\u001B[39;00m key, value \u001B[38;5;129;01min\u001B[39;00m kwargs\u001B[38;5;241m.\u001B[39mitems() \u001B[38;5;28;01mif\u001B[39;00m key \u001B[38;5;129;01min\u001B[39;00m \u001B[38;5;28mself\u001B[39m\u001B[38;5;241m.\u001B[39mf_args},\n\u001B[1;32m     81\u001B[0m )\n\u001B[1;32m     83\u001B[0m \u001B[38;5;28;01mif\u001B[39;00m \u001B[38;5;28mself\u001B[39m\u001B[38;5;241m.\u001B[39mon_done \u001B[38;5;129;01mis\u001B[39;00m \u001B[38;5;129;01mnot\u001B[39;00m \u001B[38;5;28;01mNone\u001B[39;00m:\n\u001B[1;32m     85\u001B[0m     kwargs\u001B[38;5;241m.\u001B[39msetdefault(\n\u001B[1;32m     86\u001B[0m         \u001B[38;5;124m\"\u001B[39m\u001B[38;5;124mstage_status\u001B[39m\u001B[38;5;124m\"\u001B[39m,\n\u001B[1;32m     87\u001B[0m         StageStatus(),\n\u001B[1;32m     88\u001B[0m     )\n",
      "File \u001B[0;32m/Volumes/External/miniconda3/envs/RedunMin/lib/python3.10/site-packages/pypeln/sync/stage.py:118\u001B[0m, in \u001B[0;36mApplyProcess.__call__\u001B[0;34m(self, worker, **kwargs)\u001B[0m\n\u001B[1;32m    112\u001B[0m \u001B[38;5;28;01mfor\u001B[39;00m x \u001B[38;5;129;01min\u001B[39;00m worker\u001B[38;5;241m.\u001B[39miter_dependencies():\n\u001B[1;32m    113\u001B[0m     \u001B[38;5;28;01mwith\u001B[39;00m (\n\u001B[1;32m    114\u001B[0m         stopit\u001B[38;5;241m.\u001B[39mThreadingTimeout(worker\u001B[38;5;241m.\u001B[39mtimeout)\n\u001B[1;32m    115\u001B[0m         \u001B[38;5;28;01mif\u001B[39;00m worker\u001B[38;5;241m.\u001B[39mtimeout\n\u001B[1;32m    116\u001B[0m         \u001B[38;5;28;01melse\u001B[39;00m utils\u001B[38;5;241m.\u001B[39mNoOpContext()\n\u001B[1;32m    117\u001B[0m     ):\n\u001B[0;32m--> 118\u001B[0m         \u001B[38;5;28;01myield from\u001B[39;00m \u001B[38;5;28mself\u001B[39m\u001B[38;5;241m.\u001B[39mapply(worker, x, \u001B[38;5;241m*\u001B[39m\u001B[38;5;241m*\u001B[39mkwargs)\n",
      "File \u001B[0;32m/Volumes/External/miniconda3/envs/RedunMin/lib/python3.10/site-packages/pypeln/sync/api/map.py:25\u001B[0m, in \u001B[0;36mMap.apply\u001B[0;34m(self, worker, elem, **kwargs)\u001B[0m\n\u001B[1;32m     22\u001B[0m \u001B[38;5;28;01mif\u001B[39;00m \u001B[38;5;124m\"\u001B[39m\u001B[38;5;124melement_index\u001B[39m\u001B[38;5;124m\"\u001B[39m \u001B[38;5;129;01min\u001B[39;00m worker\u001B[38;5;241m.\u001B[39mf_args:\n\u001B[1;32m     23\u001B[0m     kwargs[\u001B[38;5;124m\"\u001B[39m\u001B[38;5;124melement_index\u001B[39m\u001B[38;5;124m\"\u001B[39m] \u001B[38;5;241m=\u001B[39m elem\u001B[38;5;241m.\u001B[39mindex\n\u001B[0;32m---> 25\u001B[0m y \u001B[38;5;241m=\u001B[39m \u001B[38;5;28;43mself\u001B[39;49m\u001B[38;5;241;43m.\u001B[39;49m\u001B[43mf\u001B[49m\u001B[43m(\u001B[49m\u001B[43melem\u001B[49m\u001B[38;5;241;43m.\u001B[39;49m\u001B[43mvalue\u001B[49m\u001B[43m,\u001B[49m\u001B[43m \u001B[49m\u001B[38;5;241;43m*\u001B[39;49m\u001B[38;5;241;43m*\u001B[39;49m\u001B[43mkwargs\u001B[49m\u001B[43m)\u001B[49m\n\u001B[1;32m     26\u001B[0m \u001B[38;5;28;01myield\u001B[39;00m elem\u001B[38;5;241m.\u001B[39mset(y)\n",
      "File \u001B[0;32m/Volumes/External/Projects/RedunMin/src/data/loader.py:53\u001B[0m, in \u001B[0;36mDataLoader._get_loader.<locals>.<lambda>\u001B[0;34m(x)\u001B[0m\n\u001B[1;32m     47\u001B[0m \u001B[38;5;28;01mif\u001B[39;00m stage \u001B[38;5;241m==\u001B[39m \u001B[38;5;124m'\u001B[39m\u001B[38;5;124mtrain\u001B[39m\u001B[38;5;124m'\u001B[39m \u001B[38;5;129;01mand\u001B[39;00m \u001B[38;5;28mself\u001B[39m\u001B[38;5;241m.\u001B[39mconfig\u001B[38;5;241m.\u001B[39mshuffle:\n\u001B[1;32m     48\u001B[0m     loader \u001B[38;5;241m=\u001B[39m loader\u001B[38;5;241m.\u001B[39mwith_shuffling(\u001B[38;5;28mself\u001B[39m\u001B[38;5;241m.\u001B[39m_epoch_seed())\n\u001B[1;32m     50\u001B[0m loader \u001B[38;5;241m=\u001B[39m (\n\u001B[1;32m     51\u001B[0m     pl\u001B[38;5;241m.\u001B[39msync\u001B[38;5;241m.\u001B[39mfrom_iterable(\u001B[38;5;28miter\u001B[39m(loader))\n\u001B[1;32m     52\u001B[0m     \u001B[38;5;241m|\u001B[39m pl\u001B[38;5;241m.\u001B[39mthread\u001B[38;5;241m.\u001B[39mmap(\u001B[38;5;28;01mlambda\u001B[39;00m x: VideoSample(\u001B[38;5;241m*\u001B[39m\u001B[38;5;241m*\u001B[39mpickle\u001B[38;5;241m.\u001B[39mloads(x[\u001B[38;5;241m1\u001B[39m])), workers\u001B[38;5;241m=\u001B[39m\u001B[38;5;241m8\u001B[39m, maxsize\u001B[38;5;241m=\u001B[39m\u001B[38;5;241m32\u001B[39m)\n\u001B[0;32m---> 53\u001B[0m     \u001B[38;5;241m|\u001B[39m pl\u001B[38;5;241m.\u001B[39msync\u001B[38;5;241m.\u001B[39mmap(\u001B[38;5;28;01mlambda\u001B[39;00m x: \u001B[43mx\u001B[49m\u001B[38;5;241;43m.\u001B[39;49m\u001B[43msample_frames\u001B[49m\u001B[43m(\u001B[49m\u001B[38;5;28;43mself\u001B[39;49m\u001B[38;5;241;43m.\u001B[39;49m\u001B[43mconfig\u001B[49m\u001B[38;5;241;43m.\u001B[39;49m\u001B[43mn_frames\u001B[49m\u001B[43m)\u001B[49m\u001B[38;5;241;43m.\u001B[39;49m\u001B[43mto_tensors\u001B[49m\u001B[43m(\u001B[49m\u001B[43m)\u001B[49m)\n\u001B[1;32m     54\u001B[0m )\n\u001B[1;32m     56\u001B[0m \u001B[38;5;28;01mif\u001B[39;00m \u001B[38;5;28mself\u001B[39m\u001B[38;5;241m.\u001B[39mtransforms[stage] \u001B[38;5;129;01mis\u001B[39;00m \u001B[38;5;129;01mnot\u001B[39;00m \u001B[38;5;28;01mNone\u001B[39;00m:\n\u001B[1;32m     57\u001B[0m     loader \u001B[38;5;241m=\u001B[39m loader \u001B[38;5;241m|\u001B[39m pl\u001B[38;5;241m.\u001B[39msync\u001B[38;5;241m.\u001B[39mmap(\u001B[38;5;28;01mlambda\u001B[39;00m x: \u001B[38;5;28mself\u001B[39m\u001B[38;5;241m.\u001B[39mtransforms[stage](x), workers\u001B[38;5;241m=\u001B[39m\u001B[38;5;241m2\u001B[39m, maxsize\u001B[38;5;241m=\u001B[39m\u001B[38;5;241m32\u001B[39m)\n",
      "File \u001B[0;32m/Volumes/External/Projects/RedunMin/src/data/types.py:122\u001B[0m, in \u001B[0;36mVideoSample.to_tensors\u001B[0;34m(self)\u001B[0m\n\u001B[1;32m    121\u001B[0m \u001B[38;5;28;01mdef\u001B[39;00m \u001B[38;5;21mto_tensors\u001B[39m(\u001B[38;5;28mself\u001B[39m) \u001B[38;5;241m-\u001B[39m\u001B[38;5;241m>\u001B[39m Tuple[jnp\u001B[38;5;241m.\u001B[39mndarray, jnp\u001B[38;5;241m.\u001B[39mndarray]:\n\u001B[0;32m--> 122\u001B[0m     \u001B[38;5;28mcls\u001B[39m, vid \u001B[38;5;241m=\u001B[39m \u001B[38;5;28;43mself\u001B[39;49m\u001B[38;5;241;43m.\u001B[39;49m\u001B[43mto_arrays\u001B[49m\u001B[43m(\u001B[49m\u001B[43m)\u001B[49m\n\u001B[1;32m    123\u001B[0m     \u001B[38;5;28mcls\u001B[39m \u001B[38;5;241m=\u001B[39m jnp\u001B[38;5;241m.\u001B[39masarray(\u001B[38;5;28mcls\u001B[39m)\n\u001B[1;32m    124\u001B[0m     vid \u001B[38;5;241m=\u001B[39m jnp\u001B[38;5;241m.\u001B[39masarray(vid)\n",
      "File \u001B[0;32m/Volumes/External/Projects/RedunMin/src/data/types.py:119\u001B[0m, in \u001B[0;36mVideoSample.to_arrays\u001B[0;34m(self)\u001B[0m\n\u001B[1;32m    118\u001B[0m \u001B[38;5;28;01mdef\u001B[39;00m \u001B[38;5;21mto_arrays\u001B[39m(\u001B[38;5;28mself\u001B[39m) \u001B[38;5;241m-\u001B[39m\u001B[38;5;241m>\u001B[39m Tuple[np\u001B[38;5;241m.\u001B[39mndarray, np\u001B[38;5;241m.\u001B[39mndarray]:\n\u001B[0;32m--> 119\u001B[0m     \u001B[38;5;28;01mreturn\u001B[39;00m np\u001B[38;5;241m.\u001B[39marray(\u001B[38;5;28mint\u001B[39m(\u001B[38;5;28mself\u001B[39m\u001B[38;5;241m.\u001B[39mcls)), \u001B[43mnp\u001B[49m\u001B[38;5;241;43m.\u001B[39;49m\u001B[43masarray\u001B[49m\u001B[43m(\u001B[49m\u001B[38;5;28;43mself\u001B[39;49m\u001B[38;5;241;43m.\u001B[39;49m\u001B[43mvideo\u001B[49m\u001B[38;5;241;43m.\u001B[39;49m\u001B[43mframes\u001B[49m\u001B[43m)\u001B[49m\u001B[38;5;241m.\u001B[39mtranspose(\u001B[38;5;241m0\u001B[39m, \u001B[38;5;241m3\u001B[39m, \u001B[38;5;241m1\u001B[39m, \u001B[38;5;241m2\u001B[39m)\n",
      "\u001B[0;31mKeyboardInterrupt\u001B[0m: "
     ]
    }
   ],
   "source": [
    "from tqdm import tqdm\n",
    "\n",
    "for x in tqdm(loader.train_loader()):\n",
    "    pass"
   ],
   "metadata": {
    "collapsed": false,
    "ExecuteTime": {
     "start_time": "2023-10-09T05:33:13.331873Z"
    }
   },
   "id": "321b1b17c9d0493"
  },
  {
   "cell_type": "code",
   "execution_count": 2,
   "outputs": [
    {
     "data": {
      "text/plain": "NamedArray(array=Array([ 530,  700, 1670,   10, 1220, 2280, 1050, 2110,  820,  570], dtype=int32), axes=(Axis(name='t', size=10),))"
     },
     "execution_count": 2,
     "metadata": {},
     "output_type": "execute_result"
    }
   ],
   "source": [
    "import jax\n",
    "import haliax as hax\n",
    "\n",
    "hax.random.randint(jax.random.PRNGKey(0), hax.Axis('t', 10), 0, 255) * 10"
   ],
   "metadata": {
    "collapsed": false,
    "ExecuteTime": {
     "end_time": "2023-10-19T00:01:22.318271Z",
     "start_time": "2023-10-19T00:01:22.049669Z"
    }
   },
   "id": "7bd472b7712464e"
  },
  {
   "cell_type": "code",
   "execution_count": null,
   "outputs": [],
   "source": [],
   "metadata": {
    "collapsed": false
   },
   "id": "c9df4e4180672fda"
  }
 ],
 "metadata": {
  "kernelspec": {
   "display_name": "Python 3",
   "language": "python",
   "name": "python3"
  },
  "language_info": {
   "codemirror_mode": {
    "name": "ipython",
    "version": 2
   },
   "file_extension": ".py",
   "mimetype": "text/x-python",
   "name": "python",
   "nbconvert_exporter": "python",
   "pygments_lexer": "ipython2",
   "version": "2.7.6"
  }
 },
 "nbformat": 4,
 "nbformat_minor": 5
}
