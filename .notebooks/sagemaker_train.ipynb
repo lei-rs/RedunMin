{
 "cells": [
  {
   "cell_type": "code",
   "execution_count": 1,
   "outputs": [],
   "source": [
    "import os\n",
    "os.chdir('/home/lei/Documents/RedunMin')\n",
    "\n",
    "git_config = {\n",
    "    'repo': 'https://github.com/leifu1128/RedunMin.git'\n",
    "}"
   ],
   "metadata": {
    "collapsed": false,
    "ExecuteTime": {
     "end_time": "2023-06-05T22:41:24.099830430Z",
     "start_time": "2023-06-05T22:41:24.099551864Z"
    }
   }
  },
  {
   "cell_type": "code",
   "execution_count": 2,
   "outputs": [],
   "source": [
    "from sagemaker.pytorch import PyTorch\n",
    "\n",
    "pt_estimator = PyTorch(\n",
    "    role='AmazonSageMaker-ExecutionRole-20221119T152183',\n",
    "    entry_point='tests/epoch_speedtest.py',\n",
    "    framework_version = '2.0',\n",
    "    py_version = 'py310',\n",
    "    instance_type='ml.g5.12xlarge',\n",
    "    instance_count=1,\n",
    "    disable_profiler=True,\n",
    "    dependencies=['sagemaker/requirements.txt', 'src'],\n",
    "    volume_size=5,\n",
    "    input_mode='FastFile',\n",
    "    source_dir='src',\n",
    ")"
   ],
   "metadata": {
    "collapsed": false,
    "ExecuteTime": {
     "end_time": "2023-06-05T22:41:24.667813892Z",
     "start_time": "2023-06-05T22:41:24.099709780Z"
    }
   }
  },
  {
   "cell_type": "code",
   "execution_count": 3,
   "outputs": [
    {
     "name": "stdout",
     "output_type": "stream",
     "text": [
      "Using provided s3_resource\n"
     ]
    },
    {
     "name": "stderr",
     "output_type": "stream",
     "text": [
      "INFO:sagemaker.image_uris:image_uri is not presented, retrieving image_uri based on instance_type, framework etc.\n",
      "INFO:sagemaker:Creating training-job with name: pytorch-training-2023-06-05-22-41-24-677\n"
     ]
    },
    {
     "name": "stdout",
     "output_type": "stream",
     "text": [
      "2023-06-05 22:41:25 Starting - Starting the training job...\n",
      "2023-06-05 22:41:38 Failed - Training job failed\n",
      ".."
     ]
    },
    {
     "ename": "CapacityError",
     "evalue": "Error for Training job pytorch-training-2023-06-05-22-41-24-677: Failed. Reason: CapacityError: Unable to provision requested ML compute capacity. Please retry using a different ML instance type.",
     "output_type": "error",
     "traceback": [
      "\u001B[0;31m---------------------------------------------------------------------------\u001B[0m",
      "\u001B[0;31mCapacityError\u001B[0m                             Traceback (most recent call last)",
      "Cell \u001B[0;32mIn[3], line 3\u001B[0m\n\u001B[1;32m      1\u001B[0m \u001B[38;5;28;01mfrom\u001B[39;00m \u001B[38;5;21;01msagemaker\u001B[39;00m\u001B[38;5;21;01m.\u001B[39;00m\u001B[38;5;21;01minputs\u001B[39;00m \u001B[38;5;28;01mimport\u001B[39;00m TrainingInput\n\u001B[0;32m----> 3\u001B[0m \u001B[43mpt_estimator\u001B[49m\u001B[38;5;241;43m.\u001B[39;49m\u001B[43mfit\u001B[49m\u001B[43m(\u001B[49m\u001B[43minputs\u001B[49m\u001B[38;5;241;43m=\u001B[39;49m\u001B[43mTrainingInput\u001B[49m\u001B[43m(\u001B[49m\u001B[43ms3_data\u001B[49m\u001B[38;5;241;43m=\u001B[39;49m\u001B[38;5;124;43m'\u001B[39;49m\u001B[38;5;124;43ms3://actionreg-data\u001B[39;49m\u001B[38;5;124;43m'\u001B[39;49m\u001B[43m)\u001B[49m\u001B[43m)\u001B[49m\n",
      "File \u001B[0;32m~/miniconda3/envs/RedunMin/lib/python3.10/site-packages/sagemaker/workflow/pipeline_context.py:300\u001B[0m, in \u001B[0;36mrunnable_by_pipeline.<locals>.wrapper\u001B[0;34m(*args, **kwargs)\u001B[0m\n\u001B[1;32m    296\u001B[0m         \u001B[38;5;28;01mreturn\u001B[39;00m context\n\u001B[1;32m    298\u001B[0m     \u001B[38;5;28;01mreturn\u001B[39;00m _StepArguments(retrieve_caller_name(self_instance), run_func, \u001B[38;5;241m*\u001B[39margs, \u001B[38;5;241m*\u001B[39m\u001B[38;5;241m*\u001B[39mkwargs)\n\u001B[0;32m--> 300\u001B[0m \u001B[38;5;28;01mreturn\u001B[39;00m \u001B[43mrun_func\u001B[49m\u001B[43m(\u001B[49m\u001B[38;5;241;43m*\u001B[39;49m\u001B[43margs\u001B[49m\u001B[43m,\u001B[49m\u001B[43m \u001B[49m\u001B[38;5;241;43m*\u001B[39;49m\u001B[38;5;241;43m*\u001B[39;49m\u001B[43mkwargs\u001B[49m\u001B[43m)\u001B[49m\n",
      "File \u001B[0;32m~/miniconda3/envs/RedunMin/lib/python3.10/site-packages/sagemaker/estimator.py:1221\u001B[0m, in \u001B[0;36mEstimatorBase.fit\u001B[0;34m(self, inputs, wait, logs, job_name, experiment_config)\u001B[0m\n\u001B[1;32m   1219\u001B[0m \u001B[38;5;28mself\u001B[39m\u001B[38;5;241m.\u001B[39mjobs\u001B[38;5;241m.\u001B[39mappend(\u001B[38;5;28mself\u001B[39m\u001B[38;5;241m.\u001B[39mlatest_training_job)\n\u001B[1;32m   1220\u001B[0m \u001B[38;5;28;01mif\u001B[39;00m wait:\n\u001B[0;32m-> 1221\u001B[0m     \u001B[38;5;28;43mself\u001B[39;49m\u001B[38;5;241;43m.\u001B[39;49m\u001B[43mlatest_training_job\u001B[49m\u001B[38;5;241;43m.\u001B[39;49m\u001B[43mwait\u001B[49m\u001B[43m(\u001B[49m\u001B[43mlogs\u001B[49m\u001B[38;5;241;43m=\u001B[39;49m\u001B[43mlogs\u001B[49m\u001B[43m)\u001B[49m\n",
      "File \u001B[0;32m~/miniconda3/envs/RedunMin/lib/python3.10/site-packages/sagemaker/estimator.py:2367\u001B[0m, in \u001B[0;36m_TrainingJob.wait\u001B[0;34m(self, logs)\u001B[0m\n\u001B[1;32m   2365\u001B[0m \u001B[38;5;66;03m# If logs are requested, call logs_for_jobs.\u001B[39;00m\n\u001B[1;32m   2366\u001B[0m \u001B[38;5;28;01mif\u001B[39;00m logs \u001B[38;5;241m!=\u001B[39m \u001B[38;5;124m\"\u001B[39m\u001B[38;5;124mNone\u001B[39m\u001B[38;5;124m\"\u001B[39m:\n\u001B[0;32m-> 2367\u001B[0m     \u001B[38;5;28;43mself\u001B[39;49m\u001B[38;5;241;43m.\u001B[39;49m\u001B[43msagemaker_session\u001B[49m\u001B[38;5;241;43m.\u001B[39;49m\u001B[43mlogs_for_job\u001B[49m\u001B[43m(\u001B[49m\u001B[38;5;28;43mself\u001B[39;49m\u001B[38;5;241;43m.\u001B[39;49m\u001B[43mjob_name\u001B[49m\u001B[43m,\u001B[49m\u001B[43m \u001B[49m\u001B[43mwait\u001B[49m\u001B[38;5;241;43m=\u001B[39;49m\u001B[38;5;28;43;01mTrue\u001B[39;49;00m\u001B[43m,\u001B[49m\u001B[43m \u001B[49m\u001B[43mlog_type\u001B[49m\u001B[38;5;241;43m=\u001B[39;49m\u001B[43mlogs\u001B[49m\u001B[43m)\u001B[49m\n\u001B[1;32m   2368\u001B[0m \u001B[38;5;28;01melse\u001B[39;00m:\n\u001B[1;32m   2369\u001B[0m     \u001B[38;5;28mself\u001B[39m\u001B[38;5;241m.\u001B[39msagemaker_session\u001B[38;5;241m.\u001B[39mwait_for_job(\u001B[38;5;28mself\u001B[39m\u001B[38;5;241m.\u001B[39mjob_name)\n",
      "File \u001B[0;32m~/miniconda3/envs/RedunMin/lib/python3.10/site-packages/sagemaker/session.py:4665\u001B[0m, in \u001B[0;36mSession.logs_for_job\u001B[0;34m(self, job_name, wait, poll, log_type, timeout)\u001B[0m\n\u001B[1;32m   4644\u001B[0m \u001B[38;5;28;01mdef\u001B[39;00m \u001B[38;5;21mlogs_for_job\u001B[39m(\u001B[38;5;28mself\u001B[39m, job_name, wait\u001B[38;5;241m=\u001B[39m\u001B[38;5;28;01mFalse\u001B[39;00m, poll\u001B[38;5;241m=\u001B[39m\u001B[38;5;241m10\u001B[39m, log_type\u001B[38;5;241m=\u001B[39m\u001B[38;5;124m\"\u001B[39m\u001B[38;5;124mAll\u001B[39m\u001B[38;5;124m\"\u001B[39m, timeout\u001B[38;5;241m=\u001B[39m\u001B[38;5;28;01mNone\u001B[39;00m):\n\u001B[1;32m   4645\u001B[0m \u001B[38;5;250m    \u001B[39m\u001B[38;5;124;03m\"\"\"Display logs for a given training job, optionally tailing them until job is complete.\u001B[39;00m\n\u001B[1;32m   4646\u001B[0m \n\u001B[1;32m   4647\u001B[0m \u001B[38;5;124;03m    If the output is a tty or a Jupyter cell, it will be color-coded\u001B[39;00m\n\u001B[0;32m   (...)\u001B[0m\n\u001B[1;32m   4663\u001B[0m \u001B[38;5;124;03m        exceptions.UnexpectedStatusException: If waiting and the training job fails.\u001B[39;00m\n\u001B[1;32m   4664\u001B[0m \u001B[38;5;124;03m    \"\"\"\u001B[39;00m\n\u001B[0;32m-> 4665\u001B[0m     \u001B[43m_logs_for_job\u001B[49m\u001B[43m(\u001B[49m\u001B[38;5;28;43mself\u001B[39;49m\u001B[38;5;241;43m.\u001B[39;49m\u001B[43mboto_session\u001B[49m\u001B[43m,\u001B[49m\u001B[43m \u001B[49m\u001B[43mjob_name\u001B[49m\u001B[43m,\u001B[49m\u001B[43m \u001B[49m\u001B[43mwait\u001B[49m\u001B[43m,\u001B[49m\u001B[43m \u001B[49m\u001B[43mpoll\u001B[49m\u001B[43m,\u001B[49m\u001B[43m \u001B[49m\u001B[43mlog_type\u001B[49m\u001B[43m,\u001B[49m\u001B[43m \u001B[49m\u001B[43mtimeout\u001B[49m\u001B[43m)\u001B[49m\n",
      "File \u001B[0;32m~/miniconda3/envs/RedunMin/lib/python3.10/site-packages/sagemaker/session.py:6527\u001B[0m, in \u001B[0;36m_logs_for_job\u001B[0;34m(boto_session, job_name, wait, poll, log_type, timeout)\u001B[0m\n\u001B[1;32m   6524\u001B[0m             last_profiler_rule_statuses \u001B[38;5;241m=\u001B[39m profiler_rule_statuses\n\u001B[1;32m   6526\u001B[0m \u001B[38;5;28;01mif\u001B[39;00m wait:\n\u001B[0;32m-> 6527\u001B[0m     \u001B[43m_check_job_status\u001B[49m\u001B[43m(\u001B[49m\u001B[43mjob_name\u001B[49m\u001B[43m,\u001B[49m\u001B[43m \u001B[49m\u001B[43mdescription\u001B[49m\u001B[43m,\u001B[49m\u001B[43m \u001B[49m\u001B[38;5;124;43m\"\u001B[39;49m\u001B[38;5;124;43mTrainingJobStatus\u001B[39;49m\u001B[38;5;124;43m\"\u001B[39;49m\u001B[43m)\u001B[49m\n\u001B[1;32m   6528\u001B[0m     \u001B[38;5;28;01mif\u001B[39;00m dot:\n\u001B[1;32m   6529\u001B[0m         \u001B[38;5;28mprint\u001B[39m()\n",
      "File \u001B[0;32m~/miniconda3/envs/RedunMin/lib/python3.10/site-packages/sagemaker/session.py:6575\u001B[0m, in \u001B[0;36m_check_job_status\u001B[0;34m(job, desc, status_key_name)\u001B[0m\n\u001B[1;32m   6571\u001B[0m message \u001B[38;5;241m=\u001B[39m \u001B[38;5;124m\"\u001B[39m\u001B[38;5;124mError for \u001B[39m\u001B[38;5;132;01m{job_type}\u001B[39;00m\u001B[38;5;124m \u001B[39m\u001B[38;5;132;01m{job_name}\u001B[39;00m\u001B[38;5;124m: \u001B[39m\u001B[38;5;132;01m{status}\u001B[39;00m\u001B[38;5;124m. Reason: \u001B[39m\u001B[38;5;132;01m{reason}\u001B[39;00m\u001B[38;5;124m\"\u001B[39m\u001B[38;5;241m.\u001B[39mformat(\n\u001B[1;32m   6572\u001B[0m     job_type\u001B[38;5;241m=\u001B[39mjob_type, job_name\u001B[38;5;241m=\u001B[39mjob, status\u001B[38;5;241m=\u001B[39mstatus, reason\u001B[38;5;241m=\u001B[39mreason\n\u001B[1;32m   6573\u001B[0m )\n\u001B[1;32m   6574\u001B[0m \u001B[38;5;28;01mif\u001B[39;00m \u001B[38;5;124m\"\u001B[39m\u001B[38;5;124mCapacityError\u001B[39m\u001B[38;5;124m\"\u001B[39m \u001B[38;5;129;01min\u001B[39;00m \u001B[38;5;28mstr\u001B[39m(reason):\n\u001B[0;32m-> 6575\u001B[0m     \u001B[38;5;28;01mraise\u001B[39;00m exceptions\u001B[38;5;241m.\u001B[39mCapacityError(\n\u001B[1;32m   6576\u001B[0m         message\u001B[38;5;241m=\u001B[39mmessage,\n\u001B[1;32m   6577\u001B[0m         allowed_statuses\u001B[38;5;241m=\u001B[39m[\u001B[38;5;124m\"\u001B[39m\u001B[38;5;124mCompleted\u001B[39m\u001B[38;5;124m\"\u001B[39m, \u001B[38;5;124m\"\u001B[39m\u001B[38;5;124mStopped\u001B[39m\u001B[38;5;124m\"\u001B[39m],\n\u001B[1;32m   6578\u001B[0m         actual_status\u001B[38;5;241m=\u001B[39mstatus,\n\u001B[1;32m   6579\u001B[0m     )\n\u001B[1;32m   6580\u001B[0m \u001B[38;5;28;01mraise\u001B[39;00m exceptions\u001B[38;5;241m.\u001B[39mUnexpectedStatusException(\n\u001B[1;32m   6581\u001B[0m     message\u001B[38;5;241m=\u001B[39mmessage,\n\u001B[1;32m   6582\u001B[0m     allowed_statuses\u001B[38;5;241m=\u001B[39m[\u001B[38;5;124m\"\u001B[39m\u001B[38;5;124mCompleted\u001B[39m\u001B[38;5;124m\"\u001B[39m, \u001B[38;5;124m\"\u001B[39m\u001B[38;5;124mStopped\u001B[39m\u001B[38;5;124m\"\u001B[39m],\n\u001B[1;32m   6583\u001B[0m     actual_status\u001B[38;5;241m=\u001B[39mstatus,\n\u001B[1;32m   6584\u001B[0m )\n",
      "\u001B[0;31mCapacityError\u001B[0m: Error for Training job pytorch-training-2023-06-05-22-41-24-677: Failed. Reason: CapacityError: Unable to provision requested ML compute capacity. Please retry using a different ML instance type."
     ]
    }
   ],
   "source": [
    "from sagemaker.inputs import TrainingInput\n",
    "\n",
    "pt_estimator.fit(inputs=TrainingInput(s3_data='s3://actionreg-data'))"
   ],
   "metadata": {
    "collapsed": false,
    "ExecuteTime": {
     "end_time": "2023-06-05T22:42:08.054112333Z",
     "start_time": "2023-06-05T22:41:24.669452085Z"
    }
   }
  }
 ],
 "metadata": {
  "kernelspec": {
   "display_name": "Python 3",
   "language": "python",
   "name": "python3"
  },
  "language_info": {
   "codemirror_mode": {
    "name": "ipython",
    "version": 2
   },
   "file_extension": ".py",
   "mimetype": "text/x-python",
   "name": "python",
   "nbconvert_exporter": "python",
   "pygments_lexer": "ipython2",
   "version": "2.7.6"
  }
 },
 "nbformat": 4,
 "nbformat_minor": 0
}
