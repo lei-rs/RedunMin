{
 "cells": [
  {
   "cell_type": "code",
   "execution_count": 1,
   "outputs": [],
   "source": [
    "from src.data.loader import DLConfig, DataLoader"
   ],
   "metadata": {
    "collapsed": false,
    "ExecuteTime": {
     "end_time": "2023-10-01T00:03:07.494426Z",
     "start_time": "2023-10-01T00:03:06.323029Z"
    }
   },
   "id": "5a66cb926ab63233"
  },
  {
   "cell_type": "code",
   "execution_count": 2,
   "outputs": [],
   "source": [
    "config = DLConfig(\n",
    "    data_loc = 'test/data',\n",
    "    batch_size = 16,\n",
    "    #_sim_shard = (0, 8),\n",
    ")\n",
    "loader = DataLoader('ssv2', config)"
   ],
   "metadata": {
    "collapsed": false,
    "ExecuteTime": {
     "end_time": "2023-10-01T00:03:08.056334Z",
     "start_time": "2023-10-01T00:03:07.974418Z"
    }
   },
   "id": "6d4bf60f02d3bfc8"
  },
  {
   "cell_type": "code",
   "execution_count": null,
   "outputs": [
    {
     "name": "stderr",
     "output_type": "stream",
     "text": [
      "5it [00:21,  5.18s/it]"
     ]
    }
   ],
   "source": [
    "from tqdm import tqdm\n",
    "\n",
    "for i in tqdm(loader.train_loader()):\n",
    "    pass"
   ],
   "metadata": {
    "collapsed": false,
    "ExecuteTime": {
     "start_time": "2023-10-01T00:03:08.585483Z"
    }
   },
   "id": "9d227cb55f26c74b"
  },
  {
   "cell_type": "code",
   "execution_count": 4,
   "outputs": [
    {
     "data": {
      "text/plain": "torch.Size([16, 32, 3, 224, 224])"
     },
     "execution_count": 4,
     "metadata": {},
     "output_type": "execute_result"
    }
   ],
   "source": [
    "i[1].shape"
   ],
   "metadata": {
    "collapsed": false,
    "ExecuteTime": {
     "end_time": "2023-09-30T23:49:20.601008Z",
     "start_time": "2023-09-30T23:49:20.596935Z"
    }
   },
   "id": "6ac665b0d726edd0"
  }
 ],
 "metadata": {
  "kernelspec": {
   "display_name": "Python 3",
   "language": "python",
   "name": "python3"
  },
  "language_info": {
   "codemirror_mode": {
    "name": "ipython",
    "version": 2
   },
   "file_extension": ".py",
   "mimetype": "text/x-python",
   "name": "python",
   "nbconvert_exporter": "python",
   "pygments_lexer": "ipython2",
   "version": "2.7.6"
  }
 },
 "nbformat": 4,
 "nbformat_minor": 5
}
