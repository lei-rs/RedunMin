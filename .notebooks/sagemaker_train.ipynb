{
 "cells": [
  {
   "cell_type": "code",
   "execution_count": 1,
   "outputs": [],
   "source": [
    "import os\n",
    "os.chdir('C:\\\\Users\\leifu\\Documents\\GitHub\\RedunMin')\n",
    "\n",
    "git_config = {\n",
    "    'repo': 'https://github.com/leifu1128/RedunMin.git'\n",
    "}"
   ],
   "metadata": {
    "collapsed": false,
    "ExecuteTime": {
     "end_time": "2023-06-19T01:29:23.451616300Z",
     "start_time": "2023-06-19T01:29:23.441650200Z"
    }
   }
  },
  {
   "cell_type": "code",
   "execution_count": 2,
   "outputs": [],
   "source": [
    "from sagemaker.pytorch import PyTorch\n",
    "\n",
    "pt_estimator = PyTorch(\n",
    "    role='AmazonSageMaker-ExecutionRole-20221119T152183',\n",
    "    entry_point='tests/epoch_speedtest.py',\n",
    "    framework_version = '2.0',\n",
    "    py_version = 'py310',\n",
    "    instance_type='ml.g5.12xlarge',\n",
    "    instance_count=1,\n",
    "    disable_profiler=True,\n",
    "    dependencies=['sagemaker/requirements.txt', 'src'],\n",
    "    volume_size=5,\n",
    "    input_mode='FastFile',\n",
    "    source_dir='src',\n",
    ")"
   ],
   "metadata": {
    "collapsed": false,
    "ExecuteTime": {
     "end_time": "2023-06-19T01:29:24.396056500Z",
     "start_time": "2023-06-19T01:29:23.453610Z"
    }
   }
  },
  {
   "cell_type": "code",
   "execution_count": null,
   "outputs": [
    {
     "name": "stdout",
     "output_type": "stream",
     "text": [
      "Using provided s3_resource\n"
     ]
    },
    {
     "name": "stderr",
     "output_type": "stream",
     "text": [
      "INFO:sagemaker.image_uris:image_uri is not presented, retrieving image_uri based on instance_type, framework etc.\n",
      "INFO:sagemaker:Creating training-job with name: pytorch-training-2023-06-19-01-29-24-446\n"
     ]
    },
    {
     "name": "stdout",
     "output_type": "stream",
     "text": [
      "2023-06-19 01:29:31 Starting - Starting the training job...\n",
      "2023-06-19 01:29:57 Starting - Preparing the instances for training......\n",
      "2023-06-19 01:31:02 Downloading - Downloading input data...\n",
      "2023-06-19 01:31:27 Training - Downloading the training image..."
     ]
    }
   ],
   "source": [
    "from sagemaker.inputs import TrainingInput\n",
    "\n",
    "pt_estimator.fit(inputs=TrainingInput(s3_data='s3://actionreg-data'))"
   ],
   "metadata": {
    "collapsed": false,
    "is_executing": true,
    "ExecuteTime": {
     "start_time": "2023-06-19T01:29:24.397051700Z"
    }
   }
  }
 ],
 "metadata": {
  "kernelspec": {
   "display_name": "Python 3",
   "language": "python",
   "name": "python3"
  },
  "language_info": {
   "codemirror_mode": {
    "name": "ipython",
    "version": 2
   },
   "file_extension": ".py",
   "mimetype": "text/x-python",
   "name": "python",
   "nbconvert_exporter": "python",
   "pygments_lexer": "ipython2",
   "version": "2.7.6"
  }
 },
 "nbformat": 4,
 "nbformat_minor": 0
}
